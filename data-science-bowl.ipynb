{
 "cells": [
  {
   "cell_type": "code",
   "execution_count": 1,
   "metadata": {
    "_cell_guid": "b1076dfc-b9ad-4769-8c92-a6c4dae69d19",
    "_uuid": "8f2839f25d086af736a60e9eeb907d3b93b6e0e5"
   },
   "outputs": [
    {
     "name": "stdout",
     "output_type": "stream",
     "text": [
      "/kaggle/input/data-science-bowl-2019/train.csv\n",
      "/kaggle/input/data-science-bowl-2019/specs.csv\n",
      "/kaggle/input/data-science-bowl-2019/train_labels.csv\n",
      "/kaggle/input/data-science-bowl-2019/test.csv\n",
      "/kaggle/input/data-science-bowl-2019/sample_submission.csv\n"
     ]
    }
   ],
   "source": [
    "import numpy as np\n",
    "import pandas as pd\n",
    "import matplotlib.pyplot as plt\n",
    "import seaborn as sns\n",
    "from scipy import stats\n",
    "\n",
    "import datetime\n",
    "from collections import Counter\n",
    "from tqdm import tqdm_notebook as tqdm\n",
    "\n",
    "import xgboost as xgb\n",
    "from xgboost import XGBClassifier, XGBRegressor\n",
    "from xgboost import plot_importance\n",
    "import lightgbm as lgb\n",
    "from sklearn.metrics import cohen_kappa_score\n",
    "from sklearn.model_selection import KFold, StratifiedKFold\n",
    "import gc\n",
    "\n",
    "import os\n",
    "for dirname, _, filenames in os.walk('/kaggle/input'):\n",
    "    for filename in filenames:\n",
    "        print(os.path.join(dirname, filename))\n",
    "\n",
    "# Any results you write to the current directory are saved as output."
   ]
  },
  {
   "cell_type": "code",
   "execution_count": 2,
   "metadata": {
    "_cell_guid": "79c7e3d0-c299-4dcb-8224-4455121ee9b0",
    "_uuid": "d629ff2d2480ee46fbb7e2d37f6b5fab8052498a"
   },
   "outputs": [],
   "source": [
    "train = pd.read_csv('../input/data-science-bowl-2019/train.csv')\n",
    "train_labels = pd.read_csv('../input/data-science-bowl-2019/train_labels.csv')\n",
    "test = pd.read_csv('../input/data-science-bowl-2019/test.csv')\n",
    "specs = pd.read_csv('../input/data-science-bowl-2019/specs.csv')\n",
    "sample_submission = pd.read_csv('../input/data-science-bowl-2019/sample_submission.csv')"
   ]
  },
  {
   "cell_type": "code",
   "execution_count": 3,
   "metadata": {},
   "outputs": [
    {
     "data": {
      "text/html": [
       "<div>\n",
       "<style scoped>\n",
       "    .dataframe tbody tr th:only-of-type {\n",
       "        vertical-align: middle;\n",
       "    }\n",
       "\n",
       "    .dataframe tbody tr th {\n",
       "        vertical-align: top;\n",
       "    }\n",
       "\n",
       "    .dataframe thead th {\n",
       "        text-align: right;\n",
       "    }\n",
       "</style>\n",
       "<table border=\"1\" class=\"dataframe\">\n",
       "  <thead>\n",
       "    <tr style=\"text-align: right;\">\n",
       "      <th></th>\n",
       "      <th>event_id</th>\n",
       "      <th>game_session</th>\n",
       "      <th>timestamp</th>\n",
       "      <th>event_data</th>\n",
       "      <th>installation_id</th>\n",
       "      <th>event_count</th>\n",
       "      <th>event_code</th>\n",
       "      <th>game_time</th>\n",
       "      <th>title</th>\n",
       "      <th>type</th>\n",
       "      <th>world</th>\n",
       "    </tr>\n",
       "  </thead>\n",
       "  <tbody>\n",
       "    <tr>\n",
       "      <th>0</th>\n",
       "      <td>27253bdc</td>\n",
       "      <td>45bb1e1b6b50c07b</td>\n",
       "      <td>2019-09-06T17:53:46.937Z</td>\n",
       "      <td>{\"event_code\": 2000, \"event_count\": 1}</td>\n",
       "      <td>0001e90f</td>\n",
       "      <td>1</td>\n",
       "      <td>2000</td>\n",
       "      <td>0</td>\n",
       "      <td>Welcome to Lost Lagoon!</td>\n",
       "      <td>Clip</td>\n",
       "      <td>NONE</td>\n",
       "    </tr>\n",
       "    <tr>\n",
       "      <th>1</th>\n",
       "      <td>27253bdc</td>\n",
       "      <td>17eeb7f223665f53</td>\n",
       "      <td>2019-09-06T17:54:17.519Z</td>\n",
       "      <td>{\"event_code\": 2000, \"event_count\": 1}</td>\n",
       "      <td>0001e90f</td>\n",
       "      <td>1</td>\n",
       "      <td>2000</td>\n",
       "      <td>0</td>\n",
       "      <td>Magma Peak - Level 1</td>\n",
       "      <td>Clip</td>\n",
       "      <td>MAGMAPEAK</td>\n",
       "    </tr>\n",
       "    <tr>\n",
       "      <th>2</th>\n",
       "      <td>77261ab5</td>\n",
       "      <td>0848ef14a8dc6892</td>\n",
       "      <td>2019-09-06T17:54:56.302Z</td>\n",
       "      <td>{\"version\":\"1.0\",\"event_count\":1,\"game_time\":0...</td>\n",
       "      <td>0001e90f</td>\n",
       "      <td>1</td>\n",
       "      <td>2000</td>\n",
       "      <td>0</td>\n",
       "      <td>Sandcastle Builder (Activity)</td>\n",
       "      <td>Activity</td>\n",
       "      <td>MAGMAPEAK</td>\n",
       "    </tr>\n",
       "    <tr>\n",
       "      <th>3</th>\n",
       "      <td>b2dba42b</td>\n",
       "      <td>0848ef14a8dc6892</td>\n",
       "      <td>2019-09-06T17:54:56.387Z</td>\n",
       "      <td>{\"description\":\"Let's build a sandcastle! Firs...</td>\n",
       "      <td>0001e90f</td>\n",
       "      <td>2</td>\n",
       "      <td>3010</td>\n",
       "      <td>53</td>\n",
       "      <td>Sandcastle Builder (Activity)</td>\n",
       "      <td>Activity</td>\n",
       "      <td>MAGMAPEAK</td>\n",
       "    </tr>\n",
       "    <tr>\n",
       "      <th>4</th>\n",
       "      <td>1bb5fbdb</td>\n",
       "      <td>0848ef14a8dc6892</td>\n",
       "      <td>2019-09-06T17:55:03.253Z</td>\n",
       "      <td>{\"description\":\"Let's build a sandcastle! Firs...</td>\n",
       "      <td>0001e90f</td>\n",
       "      <td>3</td>\n",
       "      <td>3110</td>\n",
       "      <td>6972</td>\n",
       "      <td>Sandcastle Builder (Activity)</td>\n",
       "      <td>Activity</td>\n",
       "      <td>MAGMAPEAK</td>\n",
       "    </tr>\n",
       "  </tbody>\n",
       "</table>\n",
       "</div>"
      ],
      "text/plain": [
       "   event_id      game_session                 timestamp  \\\n",
       "0  27253bdc  45bb1e1b6b50c07b  2019-09-06T17:53:46.937Z   \n",
       "1  27253bdc  17eeb7f223665f53  2019-09-06T17:54:17.519Z   \n",
       "2  77261ab5  0848ef14a8dc6892  2019-09-06T17:54:56.302Z   \n",
       "3  b2dba42b  0848ef14a8dc6892  2019-09-06T17:54:56.387Z   \n",
       "4  1bb5fbdb  0848ef14a8dc6892  2019-09-06T17:55:03.253Z   \n",
       "\n",
       "                                          event_data installation_id  \\\n",
       "0             {\"event_code\": 2000, \"event_count\": 1}        0001e90f   \n",
       "1             {\"event_code\": 2000, \"event_count\": 1}        0001e90f   \n",
       "2  {\"version\":\"1.0\",\"event_count\":1,\"game_time\":0...        0001e90f   \n",
       "3  {\"description\":\"Let's build a sandcastle! Firs...        0001e90f   \n",
       "4  {\"description\":\"Let's build a sandcastle! Firs...        0001e90f   \n",
       "\n",
       "   event_count  event_code  game_time                          title  \\\n",
       "0            1        2000          0        Welcome to Lost Lagoon!   \n",
       "1            1        2000          0           Magma Peak - Level 1   \n",
       "2            1        2000          0  Sandcastle Builder (Activity)   \n",
       "3            2        3010         53  Sandcastle Builder (Activity)   \n",
       "4            3        3110       6972  Sandcastle Builder (Activity)   \n",
       "\n",
       "       type      world  \n",
       "0      Clip       NONE  \n",
       "1      Clip  MAGMAPEAK  \n",
       "2  Activity  MAGMAPEAK  \n",
       "3  Activity  MAGMAPEAK  \n",
       "4  Activity  MAGMAPEAK  "
      ]
     },
     "execution_count": 3,
     "metadata": {},
     "output_type": "execute_result"
    }
   ],
   "source": [
    "train.head()"
   ]
  },
  {
   "cell_type": "code",
   "execution_count": 4,
   "metadata": {},
   "outputs": [
    {
     "data": {
      "text/plain": [
       "(11341042, 11)"
      ]
     },
     "execution_count": 4,
     "metadata": {},
     "output_type": "execute_result"
    }
   ],
   "source": [
    "train.shape"
   ]
  },
  {
   "cell_type": "code",
   "execution_count": 5,
   "metadata": {},
   "outputs": [],
   "source": [
    "# Since not all installation_ids in the training set have taken the assessments whereas every installation_id in the test set\n",
    "# has attempted at least one assessment, installation_ids without assessments will be removed\n",
    "\n",
    "keep_id = train[train.type == 'Assessment'][['installation_id']].drop_duplicates()\n",
    "train = pd.merge(train, keep_id, on='installation_id', how='inner')\n"
   ]
  },
  {
   "cell_type": "code",
   "execution_count": 6,
   "metadata": {},
   "outputs": [
    {
     "data": {
      "text/plain": [
       "(8294138, 11)"
      ]
     },
     "execution_count": 6,
     "metadata": {},
     "output_type": "execute_result"
    }
   ],
   "source": [
    "# installation_ids now reduced by 3 million entries\n",
    "train.shape"
   ]
  },
  {
   "cell_type": "code",
   "execution_count": 7,
   "metadata": {},
   "outputs": [
    {
     "data": {
      "image/png": "[encoded data removed]",
      "text/plain": [
       "<Figure size 864x720 with 2 Axes>"
      ]
     },
     "metadata": {
      "needs_background": "light"
     },
     "output_type": "display_data"
    }
   ],
   "source": [
    "# Visualizing the train dataset\n",
    "plt.rcParams.update({'font.size': 13})\n",
    "\n",
    "fig = plt.figure(figsize = (12, 10))\n",
    "ax1 = fig.add_subplot(211)\n",
    "ax1 = sns.countplot(y = 'type', data = train, color = 'blue',\n",
    "                   order = train.type.value_counts().index)\n",
    "plt.title(\"Number of events by type\")\n",
    "\n",
    "ax2 = fig.add_subplot(212)\n",
    "ax2 = sns.countplot(y = 'world', data = train, color = 'blue',\n",
    "                   order = train.world.value_counts().index)\n",
    "plt.title(\"Number of events by world\")\n",
    "\n",
    "plt.show()"
   ]
  },
  {
   "cell_type": "code",
   "execution_count": 8,
   "metadata": {},
   "outputs": [
    {
     "data": {
      "image/png": "[encoded data removed]",
      "text/plain": [
       "<Figure size 864x720 with 1 Axes>"
      ]
     },
     "metadata": {
      "needs_background": "light"
     },
     "output_type": "display_data"
    }
   ],
   "source": [
    "plt.rcParams.update({'font.size': 12})\n",
    "\n",
    "fig = plt.figure(figsize  = (12,10))\n",
    "se = train.title.value_counts().sort_values(ascending = True)\n",
    "se.plot.barh()\n",
    "plt.title(\"Event counts by title\")\n",
    "plt.show()"
   ]
  },
  {
   "cell_type": "code",
   "execution_count": 9,
   "metadata": {},
   "outputs": [],
   "source": [
    "# Adding some time based columns for the timestamp and visualizing these\n",
    "\n",
    "def get_time(df):\n",
    "    df['timestamp'] = pd.to_datetime(df['timestamp'])\n",
    "    df['date'] = df['timestamp'].dt.date\n",
    "    df['month'] = df['timestamp'].dt.month\n",
    "    df['hour'] = df['timestamp'].dt.hour\n",
    "    df['dayofweek'] = df['timestamp'].dt.dayofweek\n",
    "    return df\n",
    "\n",
    "train = get_time(train)"
   ]
  },
  {
   "cell_type": "code",
   "execution_count": 10,
   "metadata": {},
   "outputs": [
    {
     "data": {
      "image/png": "[encoded data removed]",
      "text/plain": [
       "<Figure size 864x720 with 1 Axes>"
      ]
     },
     "metadata": {
      "needs_background": "light"
     },
     "output_type": "display_data"
    }
   ],
   "source": [
    "# Counts for date\n",
    "\n",
    "fig = plt.figure(figsize = (12,10))\n",
    "se = train.groupby('date')['date'].count()\n",
    "se.plot()\n",
    "plt.title(\"Event counts by date\")\n",
    "plt.show()"
   ]
  },
  {
   "cell_type": "code",
   "execution_count": 11,
   "metadata": {},
   "outputs": [
    {
     "data": {
      "text/html": [
       "<div>\n",
       "<style scoped>\n",
       "    .dataframe tbody tr th:only-of-type {\n",
       "        vertical-align: middle;\n",
       "    }\n",
       "\n",
       "    .dataframe tbody tr th {\n",
       "        vertical-align: top;\n",
       "    }\n",
       "\n",
       "    .dataframe thead th {\n",
       "        text-align: right;\n",
       "    }\n",
       "</style>\n",
       "<table border=\"1\" class=\"dataframe\">\n",
       "  <thead>\n",
       "    <tr style=\"text-align: right;\">\n",
       "      <th></th>\n",
       "      <th>event_id</th>\n",
       "      <th>game_session</th>\n",
       "      <th>timestamp</th>\n",
       "      <th>event_data</th>\n",
       "      <th>installation_id</th>\n",
       "      <th>event_count</th>\n",
       "      <th>event_code</th>\n",
       "      <th>game_time</th>\n",
       "      <th>title</th>\n",
       "      <th>type</th>\n",
       "      <th>world</th>\n",
       "    </tr>\n",
       "  </thead>\n",
       "  <tbody>\n",
       "    <tr>\n",
       "      <th>0</th>\n",
       "      <td>27253bdc</td>\n",
       "      <td>0ea9ecc81a565215</td>\n",
       "      <td>2019-09-10T16:50:24.910Z</td>\n",
       "      <td>{\"event_code\": 2000, \"event_count\": 1}</td>\n",
       "      <td>00abaee7</td>\n",
       "      <td>1</td>\n",
       "      <td>2000</td>\n",
       "      <td>0</td>\n",
       "      <td>Welcome to Lost Lagoon!</td>\n",
       "      <td>Clip</td>\n",
       "      <td>NONE</td>\n",
       "    </tr>\n",
       "    <tr>\n",
       "      <th>1</th>\n",
       "      <td>27253bdc</td>\n",
       "      <td>c1ea43d8b8261d27</td>\n",
       "      <td>2019-09-10T16:50:55.503Z</td>\n",
       "      <td>{\"event_code\": 2000, \"event_count\": 1}</td>\n",
       "      <td>00abaee7</td>\n",
       "      <td>1</td>\n",
       "      <td>2000</td>\n",
       "      <td>0</td>\n",
       "      <td>Magma Peak - Level 1</td>\n",
       "      <td>Clip</td>\n",
       "      <td>MAGMAPEAK</td>\n",
       "    </tr>\n",
       "    <tr>\n",
       "      <th>2</th>\n",
       "      <td>27253bdc</td>\n",
       "      <td>7ed86c6b72e725e2</td>\n",
       "      <td>2019-09-10T16:51:51.805Z</td>\n",
       "      <td>{\"event_code\": 2000, \"event_count\": 1}</td>\n",
       "      <td>00abaee7</td>\n",
       "      <td>1</td>\n",
       "      <td>2000</td>\n",
       "      <td>0</td>\n",
       "      <td>Magma Peak - Level 2</td>\n",
       "      <td>Clip</td>\n",
       "      <td>MAGMAPEAK</td>\n",
       "    </tr>\n",
       "    <tr>\n",
       "      <th>3</th>\n",
       "      <td>27253bdc</td>\n",
       "      <td>7e516ace50e7fe67</td>\n",
       "      <td>2019-09-10T16:53:12.825Z</td>\n",
       "      <td>{\"event_code\": 2000, \"event_count\": 1}</td>\n",
       "      <td>00abaee7</td>\n",
       "      <td>1</td>\n",
       "      <td>2000</td>\n",
       "      <td>0</td>\n",
       "      <td>Crystal Caves - Level 1</td>\n",
       "      <td>Clip</td>\n",
       "      <td>CRYSTALCAVES</td>\n",
       "    </tr>\n",
       "    <tr>\n",
       "      <th>4</th>\n",
       "      <td>7d093bf9</td>\n",
       "      <td>a022c3f60ba547e7</td>\n",
       "      <td>2019-09-10T16:54:12.115Z</td>\n",
       "      <td>{\"version\":\"1.0\",\"round\":0,\"event_count\":1,\"ga...</td>\n",
       "      <td>00abaee7</td>\n",
       "      <td>1</td>\n",
       "      <td>2000</td>\n",
       "      <td>0</td>\n",
       "      <td>Chow Time</td>\n",
       "      <td>Game</td>\n",
       "      <td>CRYSTALCAVES</td>\n",
       "    </tr>\n",
       "  </tbody>\n",
       "</table>\n",
       "</div>"
      ],
      "text/plain": [
       "   event_id      game_session                 timestamp  \\\n",
       "0  27253bdc  0ea9ecc81a565215  2019-09-10T16:50:24.910Z   \n",
       "1  27253bdc  c1ea43d8b8261d27  2019-09-10T16:50:55.503Z   \n",
       "2  27253bdc  7ed86c6b72e725e2  2019-09-10T16:51:51.805Z   \n",
       "3  27253bdc  7e516ace50e7fe67  2019-09-10T16:53:12.825Z   \n",
       "4  7d093bf9  a022c3f60ba547e7  2019-09-10T16:54:12.115Z   \n",
       "\n",
       "                                          event_data installation_id  \\\n",
       "0             {\"event_code\": 2000, \"event_count\": 1}        00abaee7   \n",
       "1             {\"event_code\": 2000, \"event_count\": 1}        00abaee7   \n",
       "2             {\"event_code\": 2000, \"event_count\": 1}        00abaee7   \n",
       "3             {\"event_code\": 2000, \"event_count\": 1}        00abaee7   \n",
       "4  {\"version\":\"1.0\",\"round\":0,\"event_count\":1,\"ga...        00abaee7   \n",
       "\n",
       "   event_count  event_code  game_time                    title  type  \\\n",
       "0            1        2000          0  Welcome to Lost Lagoon!  Clip   \n",
       "1            1        2000          0     Magma Peak - Level 1  Clip   \n",
       "2            1        2000          0     Magma Peak - Level 2  Clip   \n",
       "3            1        2000          0  Crystal Caves - Level 1  Clip   \n",
       "4            1        2000          0                Chow Time  Game   \n",
       "\n",
       "          world  \n",
       "0          NONE  \n",
       "1     MAGMAPEAK  \n",
       "2     MAGMAPEAK  \n",
       "3  CRYSTALCAVES  \n",
       "4  CRYSTALCAVES  "
      ]
     },
     "execution_count": 11,
     "metadata": {},
     "output_type": "execute_result"
    }
   ],
   "source": [
    "# Understanding the test set\n",
    "test.head()\n"
   ]
  },
  {
   "cell_type": "code",
   "execution_count": 12,
   "metadata": {},
   "outputs": [
    {
     "data": {
      "text/plain": [
       "(1156414, 11)"
      ]
     },
     "execution_count": 12,
     "metadata": {},
     "output_type": "execute_result"
    }
   ],
   "source": [
    "test.shape"
   ]
  },
  {
   "cell_type": "code",
   "execution_count": 13,
   "metadata": {},
   "outputs": [
    {
     "data": {
      "text/plain": [
       "1000"
      ]
     },
     "execution_count": 13,
     "metadata": {},
     "output_type": "execute_result"
    }
   ],
   "source": [
    "test.installation_id.nunique()"
   ]
  },
  {
   "cell_type": "code",
   "execution_count": 14,
   "metadata": {},
   "outputs": [
    {
     "data": {
      "text/plain": [
       "(1000, 2)"
      ]
     },
     "execution_count": 14,
     "metadata": {},
     "output_type": "execute_result"
    }
   ],
   "source": [
    "# Test data has 11 million rows with 1000 unique installation ids which is the\n",
    "# same as the sample_submission, so there are no installation ids without an \n",
    "# assessment in the test set\n",
    "\n",
    "sample_submission.shape"
   ]
  },
  {
   "cell_type": "code",
   "execution_count": 15,
   "metadata": {},
   "outputs": [
    {
     "name": "stdout",
     "output_type": "stream",
     "text": [
      "The date range in train is: 2019-07-23 to 2019-10-22\n",
      "The date range in test is: 2019-07-24 to 2019-10-14\n"
     ]
    }
   ],
   "source": [
    "# Checking date ranges for the data\n",
    "\n",
    "test['timestamp'] = pd.to_datetime(test['timestamp'])\n",
    "print(f'The date range in train is: {train.timestamp.dt.date.min()} to {train.timestamp.dt.date.max()}')\n",
    "print(f'The date range in test is: {test.timestamp.dt.date.min()} to {test.timestamp.dt.date.max()}')\n",
    "\n",
    "# Both train and test data seems to come from similar date ranges which suggest \n",
    "# a dataset that was split randomly into train and test sets"
   ]
  },
  {
   "cell_type": "code",
   "execution_count": 16,
   "metadata": {},
   "outputs": [
    {
     "data": {
      "image/png": "[encoded data removed]",
      "text/plain": [
       "<Figure size 864x720 with 1 Axes>"
      ]
     },
     "metadata": {
      "needs_background": "light"
     },
     "output_type": "display_data"
    }
   ],
   "source": [
    "# Understanding and visualizing the train labels data\n",
    "\n",
    "fig = plt.figure(figsize = (12,10))\n",
    "se = train_labels.title.value_counts().sort_values(ascending = True)\n",
    "se.plot.barh()\n",
    "plt.title(\"Counts of titles\")\n",
    "plt.show()\n"
   ]
  },
  {
   "cell_type": "code",
   "execution_count": 17,
   "metadata": {},
   "outputs": [
    {
     "data": {
      "text/html": [
       "<div>\n",
       "<style scoped>\n",
       "    .dataframe tbody tr th:only-of-type {\n",
       "        vertical-align: middle;\n",
       "    }\n",
       "\n",
       "    .dataframe tbody tr th {\n",
       "        vertical-align: top;\n",
       "    }\n",
       "\n",
       "    .dataframe thead th {\n",
       "        text-align: right;\n",
       "    }\n",
       "</style>\n",
       "<table border=\"1\" class=\"dataframe\">\n",
       "  <thead>\n",
       "    <tr style=\"text-align: right;\">\n",
       "      <th></th>\n",
       "      <th>game_session</th>\n",
       "      <th>installation_id</th>\n",
       "      <th>title</th>\n",
       "      <th>num_correct</th>\n",
       "      <th>num_incorrect</th>\n",
       "      <th>accuracy</th>\n",
       "      <th>accuracy_group</th>\n",
       "    </tr>\n",
       "  </thead>\n",
       "  <tbody>\n",
       "    <tr>\n",
       "      <th>0</th>\n",
       "      <td>6bdf9623adc94d89</td>\n",
       "      <td>0006a69f</td>\n",
       "      <td>Mushroom Sorter (Assessment)</td>\n",
       "      <td>1</td>\n",
       "      <td>0</td>\n",
       "      <td>1.0</td>\n",
       "      <td>3</td>\n",
       "    </tr>\n",
       "    <tr>\n",
       "      <th>1</th>\n",
       "      <td>77b8ee947eb84b4e</td>\n",
       "      <td>0006a69f</td>\n",
       "      <td>Bird Measurer (Assessment)</td>\n",
       "      <td>0</td>\n",
       "      <td>11</td>\n",
       "      <td>0.0</td>\n",
       "      <td>0</td>\n",
       "    </tr>\n",
       "    <tr>\n",
       "      <th>2</th>\n",
       "      <td>901acc108f55a5a1</td>\n",
       "      <td>0006a69f</td>\n",
       "      <td>Mushroom Sorter (Assessment)</td>\n",
       "      <td>1</td>\n",
       "      <td>0</td>\n",
       "      <td>1.0</td>\n",
       "      <td>3</td>\n",
       "    </tr>\n",
       "    <tr>\n",
       "      <th>3</th>\n",
       "      <td>9501794defd84e4d</td>\n",
       "      <td>0006a69f</td>\n",
       "      <td>Mushroom Sorter (Assessment)</td>\n",
       "      <td>1</td>\n",
       "      <td>1</td>\n",
       "      <td>0.5</td>\n",
       "      <td>2</td>\n",
       "    </tr>\n",
       "    <tr>\n",
       "      <th>4</th>\n",
       "      <td>a9ef3ecb3d1acc6a</td>\n",
       "      <td>0006a69f</td>\n",
       "      <td>Bird Measurer (Assessment)</td>\n",
       "      <td>1</td>\n",
       "      <td>0</td>\n",
       "      <td>1.0</td>\n",
       "      <td>3</td>\n",
       "    </tr>\n",
       "  </tbody>\n",
       "</table>\n",
       "</div>"
      ],
      "text/plain": [
       "       game_session installation_id                         title  \\\n",
       "0  6bdf9623adc94d89        0006a69f  Mushroom Sorter (Assessment)   \n",
       "1  77b8ee947eb84b4e        0006a69f    Bird Measurer (Assessment)   \n",
       "2  901acc108f55a5a1        0006a69f  Mushroom Sorter (Assessment)   \n",
       "3  9501794defd84e4d        0006a69f  Mushroom Sorter (Assessment)   \n",
       "4  a9ef3ecb3d1acc6a        0006a69f    Bird Measurer (Assessment)   \n",
       "\n",
       "   num_correct  num_incorrect  accuracy  accuracy_group  \n",
       "0            1              0       1.0               3  \n",
       "1            0             11       0.0               0  \n",
       "2            1              0       1.0               3  \n",
       "3            1              1       0.5               2  \n",
       "4            1              0       1.0               3  "
      ]
     },
     "execution_count": 17,
     "metadata": {},
     "output_type": "execute_result"
    }
   ],
   "source": [
    "# Understanding the train_labels data\n",
    "train_labels.head()"
   ]
  },
  {
   "cell_type": "code",
   "execution_count": 18,
   "metadata": {},
   "outputs": [
    {
     "data": {
      "text/plain": [
       "(17690, 7)"
      ]
     },
     "execution_count": 18,
     "metadata": {},
     "output_type": "execute_result"
    }
   ],
   "source": [
    "train_labels.shape"
   ]
  },
  {
   "cell_type": "code",
   "execution_count": 19,
   "metadata": {},
   "outputs": [
    {
     "data": {
      "text/plain": [
       "3614"
      ]
     },
     "execution_count": 19,
     "metadata": {},
     "output_type": "execute_result"
    }
   ],
   "source": [
    "train_labels.installation_id.nunique()"
   ]
  },
  {
   "cell_type": "code",
   "execution_count": 20,
   "metadata": {},
   "outputs": [
    {
     "data": {
      "image/png": "[encoded data removed]",
      "text/plain": [
       "<Figure size 864x720 with 1 Axes>"
      ]
     },
     "metadata": {
      "needs_background": "light"
     },
     "output_type": "display_data"
    }
   ],
   "source": [
    "# Visualizing different accuracy groups and the titles within\n",
    "\n",
    "se = train_labels.groupby(['title', 'accuracy_group'])['accuracy_group'].count().unstack('title')\n",
    "se.plot.bar(stacked = True, figsize = (12,10))\n",
    "plt.title(\"Counts of accuracy groups\")\n",
    "plt.show()"
   ]
  },
  {
   "cell_type": "code",
   "execution_count": 21,
   "metadata": {},
   "outputs": [
    {
     "data": {
      "text/plain": [
       "628"
      ]
     },
     "execution_count": 21,
     "metadata": {},
     "output_type": "execute_result"
    }
   ],
   "source": [
    "# Since we have already taken out installation ids that has no assesments,\n",
    "# lets check if they are installation ids with assessments that aren't\n",
    "# included in the train labels data\n",
    "\n",
    "train[~train.installation_id.isin(train_labels.installation_id.unique())].installation_id.nunique()"
   ]
  },
  {
   "cell_type": "code",
   "execution_count": 22,
   "metadata": {},
   "outputs": [
    {
     "data": {
      "text/plain": [
       "(7734558, 15)"
      ]
     },
     "execution_count": 22,
     "metadata": {},
     "output_type": "execute_result"
    }
   ],
   "source": [
    "# Since those 628 unique installation ids are not included in the train labels \n",
    "# data, we have no information of their accuracy groups. Hence we shall remove them\n",
    "\n",
    "train = train[train.installation_id.isin(train_labels.installation_id.unique())]\n",
    "train.shape\n",
    "\n",
    "# Train set further reduced to 7.7 million rows"
   ]
  },
  {
   "cell_type": "code",
   "execution_count": 23,
   "metadata": {},
   "outputs": [
    {
     "name": "stdout",
     "output_type": "stream",
     "text": [
      "Number of rows in train_labels: 17690\n",
      "Number of unique game_sessions in train_labels: 17690)\n"
     ]
    }
   ],
   "source": [
    "# Checking if game session is the unique identifier in train_labels\n",
    "print(f'Number of rows in train_labels: {train_labels.shape[0]}')\n",
    "print(f'Number of unique game_sessions in train_labels: {train_labels.game_session.nunique()})')"
   ]
  },
  {
   "cell_type": "code",
   "execution_count": 24,
   "metadata": {},
   "outputs": [],
   "source": [
    "# Feature Engineering\n",
    "train = train.drop(['date', 'month', 'hour', 'dayofweek'], axis = 1)"
   ]
  },
  {
   "cell_type": "code",
   "execution_count": 25,
   "metadata": {},
   "outputs": [],
   "source": [
    "# Creating a function to encode all categorical data\n",
    "\n",
    "def encode_title(train, test, train_labels):\n",
    "    # encode title\n",
    "    train['title_event_code'] = list(map(lambda x, y: str(x) + '-' + str(y),\n",
    "                                        train['title'], train['event_code']))\n",
    "    test['title_event_code'] = list(map(lambda x, y: str(x) + '-' + str(y),\n",
    "                                       test['title'], test['event_code']))\n",
    "    all_title_event_code = list(set(train['title_event_code'].unique()).union(test['title_event_code'].unique()))\n",
    "    \n",
    "    # make a list with all the unique titles from the train and test set\n",
    "    list_of_user_activities = list(set(train['title'].unique()).union(set(test['title'].unique())))\n",
    "    \n",
    "    # make a list with all the unique event_code from the train and test set\n",
    "    list_of_event_code = list(set(train['event_code'].unique()).union(set(test['event_code'].unique())))\n",
    "    list_of_event_id = list(set(train['event_id'].unique()).union(set(test['event_id'].unique())))\n",
    "\n",
    "    # make a list with all the unique worlds from the train and test set\n",
    "    list_of_worlds = list(set(train['world'].unique()).union(set(test['world'].unique())))\n",
    "    \n",
    "    # create a dictionary numerating the titles\n",
    "    activities_map = dict(zip(list_of_user_activities, np.arange(len(list_of_user_activities))))\n",
    "    activities_labels = dict(zip(np.arange(len(list_of_user_activities)), list_of_user_activities))\n",
    "    activities_world = dict(zip(list_of_worlds, np.arange(len(list_of_worlds))))\n",
    "    assess_titles = list(set(train[train['type'] == 'Assessment']['title'].value_counts().index).union(set(test[test['type'] == 'Assessment']['title'].value_counts().index)))\n",
    "    \n",
    "    # replace the text titles with the number titles form the dict\n",
    "    train['title'] = train['title'].map(activities_map)\n",
    "    test['title'] = test['title'].map(activities_map)\n",
    "    train['world'] = train['world'].map(activities_world)\n",
    "    test['world'] = test['world'].map(activities_world)\n",
    "    train_labels['title'] = train_labels['title'].map(activities_map)\n",
    "    win_code = dict(zip(activities_map.values(), (4100*np.ones(len(activities_map))).astype('int')))\n",
    "    \n",
    "    # set the 'Bird Measurer (Assessment)' as 4110\n",
    "    win_code[activities_map['Bird Measurer (Assessment)']] = 4110\n",
    "    \n",
    "    # convert text into datetime\n",
    "    train['timestamp'] = pd.to_datetime(train['timestamp'])\n",
    "    test['timestamp'] = pd.to_datetime(test['timestamp'])\n",
    "    \n",
    "    return train, test, train_labels, win_code, list_of_user_activities, list_of_event_code, activities_labels, assess_titles, list_of_event_id, all_title_event_code\n",
    "\n",
    "# get useful dict with maping encode\n",
    "train, test, train_labels, win_code, list_of_user_activities,list_of_event_code, activities_labels, assess_titles, list_of_event_id, all_title_event_code = encode_title(train, test, train_labels)\n",
    "\n",
    "categoricals = ['session_title']\n"
   ]
  },
  {
   "cell_type": "code",
   "execution_count": 26,
   "metadata": {},
   "outputs": [],
   "source": [
    "# convert raw data to processed features\n",
    "\n",
    "def get_data(user_sample, test_set = False):\n",
    "    '''\n",
    "    The user_sample is a DataFrame from train or test where the only one installaion_id is filtered\n",
    "    And the test_set parameter is related with the labels processing, that is only requered if test_set = False\n",
    "    '''\n",
    "    # constants and parameters declaration\n",
    "    last_activity = 0\n",
    "    user_activities_count = {'Clip': 0, 'Activity': 0, 'Assessment': 0, 'Game': 0}\n",
    "    \n",
    "    # news features: time spent in each activity\n",
    "    time_spent_each_act = {actv: 0 for actv in list_of_user_activities}\n",
    "    event_code_count = {eve: 0 for eve in list_of_event_code}\n",
    "    last_session_time_sec = 0\n",
    "    \n",
    "    accuracy_groups = {0:0, 1:0, 2:0, 3:0}\n",
    "    all_assessments = []\n",
    "    accumulated_accuracy_group = 0\n",
    "    accumulated_accuracy = 0\n",
    "    accumulated_correct_attempts = 0\n",
    "    accumulated_uncorrect_attempts = 0\n",
    "    accumulated_actions = 0\n",
    "    counter = 0\n",
    "    time_first_activity = float(user_sample['timestamp'].values[0])\n",
    "    durations = []\n",
    "    \n",
    "    # iterate through each session of one installation_id\n",
    "    for i, session in user_sample.groupby('game_session', sort = False):\n",
    "        # i = game_session_id\n",
    "        # session is a DataFrame that contain only one game_session\n",
    "\n",
    "        # get some sessions information\n",
    "        session_type = session['type'].iloc[0]\n",
    "        session_title = session['title'].iloc[0]\n",
    "        session_title_text = activities_labels[session_title]\n",
    "\n",
    "        # get current session time in seconds\n",
    "        if session_type != 'Assessment':\n",
    "            time_spent = int(session['game_time'].iloc[-1] / 1000)\n",
    "            time_spent_each_act[activities_labels[session_title]] += time_spent\n",
    "\n",
    "        # for each assessment, and only this kind of session, the features below are processed and a register is generated\n",
    "        if (session_type == 'Assessment') & (test_set or len(session)>1):\n",
    "            # search for event code 4100 that represents the assessment trials\n",
    "            all_attempts = session.query(f'event_code == {win_code[session_title]}')\n",
    "            # then check the number of wins and number of losses\n",
    "            true_attempts = all_attempts['event_data'].str.contains('true').sum()\n",
    "            false_attempts = all_attempts['event_data'].str.contains('false').sum()\n",
    "            # copy a dict to use as feature template, it is initialized with some items:\n",
    "            # {'Clip': 0, 'Activity': 0, 'Assessment': 0, 'Game': 0}\n",
    "            features = user_activities_count.copy()\n",
    "            features.update(time_spent_each_act.copy())\n",
    "            features.update(event_code_count.copy())\n",
    "            # get installation_id for aggregated features\n",
    "            features['installation_id'] = session['installation_id'].iloc[-1]\n",
    "            # add title as feature, remembering that title represents the name of the game\n",
    "            features['session_title'] = session['title'].iloc[0]\n",
    "            # add the feature of the history of the trials of this player\n",
    "            # this is based on all the attempts so far at the moment of this assessment\n",
    "            features['accumulated_correct_attempts'] = accumulated_correct_attempts\n",
    "            features['accumulated_uncorrect_attempts'] = accumulated_uncorrect_attempts\n",
    "            accumulated_correct_attempts += true_attempts\n",
    "            accumulated_uncorrect_attempts += false_attempts\n",
    "            # the time spent in the app so far\n",
    "            if durations == []:\n",
    "                features['duration_mean'] = 0\n",
    "            else:\n",
    "                features['duration_mean'] = np.mean(durations)\n",
    "            durations.append((session.iloc[-1, 2] - session.iloc[0,2]).seconds)\n",
    "            # the accuracy is the all time wins divided by the all time attempts\n",
    "            features['accumulated_accuracy'] = accumulated_accuracy/counter if counter > 0 else 0\n",
    "            accuracy = true_attempts/(true_attempts + false_attempts) if (true_attempts + false_attempts) != 0 else 0\n",
    "            accumulated_accuracy += accuracy\n",
    "            # a feature of the current accuracy categorized\n",
    "            # it is a counter of how many times this plater was in each accuracy group\n",
    "            if accuracy == 0:\n",
    "                features['accuracy_group'] = 0\n",
    "            elif accuracy == 1:\n",
    "                features['accuracy_group'] = 3\n",
    "            elif accuracy == 0.5:\n",
    "                features['accuracy_group'] = 2\n",
    "            else:\n",
    "                features['accuracy_group'] = 1\n",
    "            features.update(accuracy_groups)\n",
    "            accuracy_groups[features['accuracy_group']] += 1\n",
    "            # mean of the all accuracy groups of this player\n",
    "            features['accumulated_accuracy_group'] = accumulated_accuracy_group/counter if counter > 0 else 0\n",
    "            accumulated_accuracy_group += features['accuracy_group']\n",
    "            # how many actions the player has done so far, it is initialized as 0 and updated some lines below\n",
    "            features['accumulated_actions'] = accumulated_actions\n",
    "\n",
    "            # there are some conditions to allow this features to be inserted in the dataset\n",
    "            # if it is a test set, all session belong to the final dataset\n",
    "            # if it is a train set, needs to be passed through this clausule: session.query(f'event_code == {win_code[session_title]}')\n",
    "            # that means must exist an event_code 4100 or 4110\n",
    "            if test_set:\n",
    "                all_assessments.append(features)\n",
    "            elif true_attempts + false_attempts > 0:\n",
    "                all_assessments.append(features)\n",
    "\n",
    "            counter += 1\n",
    "    \n",
    "        # this piece counts how many actions were made in each event_code so far\n",
    "        n_of_event_codes = Counter(session['event_code'])\n",
    "\n",
    "        for key in n_of_event_codes.keys():\n",
    "            event_code_count[key] += n_of_event_codes[key]\n",
    "\n",
    "        # counts how many actions the player has done so far, used in the feature of the same name\n",
    "        accumulated_actions += len(session)\n",
    "        if last_activity != session_type:\n",
    "            user_activities_count[session_type] += 1\n",
    "            last_activity = session_type\n",
    "\n",
    "    # if test_set = True, only the last assessment must be predicted, the previous are scraped\n",
    "    if test_set:\n",
    "        return all_assessments[-1]\n",
    "    # in train_set, all assessments are kept\n",
    "    return all_assessments\n"
   ]
  },
  {
   "cell_type": "code",
   "execution_count": 27,
   "metadata": {},
   "outputs": [
    {
     "name": "stderr",
     "output_type": "stream",
     "text": [
      "/opt/conda/lib/python3.6/site-packages/ipykernel_launcher.py:6: TqdmDeprecationWarning: This function will be removed in tqdm==5.0.0\n",
      "Please use `tqdm.notebook.tqdm` instead of `tqdm.tqdm_notebook`\n",
      "  \n"
     ]
    },
    {
     "data": {
      "application/vnd.jupyter.widget-view+json": {
       "model_id": "9cdd0b3798424d8bbb66fba64f1f2400",
       "version_major": 2,
       "version_minor": 0
      },
      "text/plain": [
       "HBox(children=(FloatProgress(value=0.0, description='Installation_id', max=3614.0, style=ProgressStyle(descrip…"
      ]
     },
     "metadata": {},
     "output_type": "display_data"
    },
    {
     "name": "stdout",
     "output_type": "stream",
     "text": [
      "\n"
     ]
    }
   ],
   "source": [
    "# applying the function to each installation_id in the train dataset\n",
    "\n",
    "compiled_data = []\n",
    "\n",
    "for i, (ins_id, user_sample) in tqdm(enumerate(train.groupby('installation_id', sort = False)), \n",
    "                                    total = train.installation_id.nunique(), desc = 'Installation_id', position = 0):\n",
    "    compiled_data += get_data(user_sample)"
   ]
  },
  {
   "cell_type": "code",
   "execution_count": 28,
   "metadata": {},
   "outputs": [
    {
     "data": {
      "text/plain": [
       "(17690, 103)"
      ]
     },
     "execution_count": 28,
     "metadata": {},
     "output_type": "execute_result"
    }
   ],
   "source": [
    "# compiled data is converted into DataFrame and deleted to reduce memory\n",
    "reduce_train = pd.DataFrame(compiled_data)\n",
    "del compiled_data\n",
    "reduce_train.shape"
   ]
  },
  {
   "cell_type": "code",
   "execution_count": 29,
   "metadata": {},
   "outputs": [
    {
     "data": {
      "text/html": [
       "<div>\n",
       "<style scoped>\n",
       "    .dataframe tbody tr th:only-of-type {\n",
       "        vertical-align: middle;\n",
       "    }\n",
       "\n",
       "    .dataframe tbody tr th {\n",
       "        vertical-align: top;\n",
       "    }\n",
       "\n",
       "    .dataframe thead th {\n",
       "        text-align: right;\n",
       "    }\n",
       "</style>\n",
       "<table border=\"1\" class=\"dataframe\">\n",
       "  <thead>\n",
       "    <tr style=\"text-align: right;\">\n",
       "      <th></th>\n",
       "      <th>Clip</th>\n",
       "      <th>Activity</th>\n",
       "      <th>Assessment</th>\n",
       "      <th>Game</th>\n",
       "      <th>Rulers</th>\n",
       "      <th>Bottle Filler (Activity)</th>\n",
       "      <th>Flower Waterer (Activity)</th>\n",
       "      <th>Watering Hole (Activity)</th>\n",
       "      <th>Slop Problem</th>\n",
       "      <th>Bird Measurer (Assessment)</th>\n",
       "      <th>...</th>\n",
       "      <th>accumulated_uncorrect_attempts</th>\n",
       "      <th>duration_mean</th>\n",
       "      <th>accumulated_accuracy</th>\n",
       "      <th>accuracy_group</th>\n",
       "      <th>0</th>\n",
       "      <th>1</th>\n",
       "      <th>2</th>\n",
       "      <th>3</th>\n",
       "      <th>accumulated_accuracy_group</th>\n",
       "      <th>accumulated_actions</th>\n",
       "    </tr>\n",
       "  </thead>\n",
       "  <tbody>\n",
       "    <tr>\n",
       "      <th>0</th>\n",
       "      <td>6</td>\n",
       "      <td>3</td>\n",
       "      <td>0</td>\n",
       "      <td>2</td>\n",
       "      <td>0</td>\n",
       "      <td>0</td>\n",
       "      <td>164</td>\n",
       "      <td>0</td>\n",
       "      <td>0</td>\n",
       "      <td>0</td>\n",
       "      <td>...</td>\n",
       "      <td>0</td>\n",
       "      <td>0.00</td>\n",
       "      <td>0.0</td>\n",
       "      <td>3</td>\n",
       "      <td>0</td>\n",
       "      <td>0</td>\n",
       "      <td>0</td>\n",
       "      <td>0</td>\n",
       "      <td>0.0</td>\n",
       "      <td>647</td>\n",
       "    </tr>\n",
       "    <tr>\n",
       "      <th>1</th>\n",
       "      <td>8</td>\n",
       "      <td>4</td>\n",
       "      <td>1</td>\n",
       "      <td>4</td>\n",
       "      <td>0</td>\n",
       "      <td>0</td>\n",
       "      <td>164</td>\n",
       "      <td>0</td>\n",
       "      <td>0</td>\n",
       "      <td>0</td>\n",
       "      <td>...</td>\n",
       "      <td>0</td>\n",
       "      <td>39.00</td>\n",
       "      <td>1.0</td>\n",
       "      <td>0</td>\n",
       "      <td>0</td>\n",
       "      <td>0</td>\n",
       "      <td>0</td>\n",
       "      <td>1</td>\n",
       "      <td>3.0</td>\n",
       "      <td>1143</td>\n",
       "    </tr>\n",
       "    <tr>\n",
       "      <th>2</th>\n",
       "      <td>8</td>\n",
       "      <td>4</td>\n",
       "      <td>2</td>\n",
       "      <td>4</td>\n",
       "      <td>0</td>\n",
       "      <td>0</td>\n",
       "      <td>164</td>\n",
       "      <td>0</td>\n",
       "      <td>0</td>\n",
       "      <td>0</td>\n",
       "      <td>...</td>\n",
       "      <td>11</td>\n",
       "      <td>65.50</td>\n",
       "      <td>0.5</td>\n",
       "      <td>3</td>\n",
       "      <td>1</td>\n",
       "      <td>0</td>\n",
       "      <td>0</td>\n",
       "      <td>1</td>\n",
       "      <td>1.5</td>\n",
       "      <td>1230</td>\n",
       "    </tr>\n",
       "    <tr>\n",
       "      <th>3</th>\n",
       "      <td>15</td>\n",
       "      <td>9</td>\n",
       "      <td>3</td>\n",
       "      <td>7</td>\n",
       "      <td>0</td>\n",
       "      <td>165</td>\n",
       "      <td>254</td>\n",
       "      <td>80</td>\n",
       "      <td>0</td>\n",
       "      <td>0</td>\n",
       "      <td>...</td>\n",
       "      <td>11</td>\n",
       "      <td>41.25</td>\n",
       "      <td>0.5</td>\n",
       "      <td>2</td>\n",
       "      <td>2</td>\n",
       "      <td>0</td>\n",
       "      <td>0</td>\n",
       "      <td>2</td>\n",
       "      <td>1.5</td>\n",
       "      <td>2159</td>\n",
       "    </tr>\n",
       "    <tr>\n",
       "      <th>4</th>\n",
       "      <td>17</td>\n",
       "      <td>10</td>\n",
       "      <td>3</td>\n",
       "      <td>9</td>\n",
       "      <td>0</td>\n",
       "      <td>165</td>\n",
       "      <td>254</td>\n",
       "      <td>80</td>\n",
       "      <td>0</td>\n",
       "      <td>0</td>\n",
       "      <td>...</td>\n",
       "      <td>12</td>\n",
       "      <td>39.20</td>\n",
       "      <td>0.5</td>\n",
       "      <td>3</td>\n",
       "      <td>2</td>\n",
       "      <td>0</td>\n",
       "      <td>1</td>\n",
       "      <td>2</td>\n",
       "      <td>1.6</td>\n",
       "      <td>2586</td>\n",
       "    </tr>\n",
       "  </tbody>\n",
       "</table>\n",
       "<p>5 rows × 103 columns</p>\n",
       "</div>"
      ],
      "text/plain": [
       "   Clip  Activity  Assessment  Game  Rulers  Bottle Filler (Activity)  \\\n",
       "0     6         3           0     2       0                         0   \n",
       "1     8         4           1     4       0                         0   \n",
       "2     8         4           2     4       0                         0   \n",
       "3    15         9           3     7       0                       165   \n",
       "4    17        10           3     9       0                       165   \n",
       "\n",
       "   Flower Waterer (Activity)  Watering Hole (Activity)  Slop Problem  \\\n",
       "0                        164                         0             0   \n",
       "1                        164                         0             0   \n",
       "2                        164                         0             0   \n",
       "3                        254                        80             0   \n",
       "4                        254                        80             0   \n",
       "\n",
       "   Bird Measurer (Assessment)  ...  accumulated_uncorrect_attempts  \\\n",
       "0                           0  ...                               0   \n",
       "1                           0  ...                               0   \n",
       "2                           0  ...                              11   \n",
       "3                           0  ...                              11   \n",
       "4                           0  ...                              12   \n",
       "\n",
       "   duration_mean  accumulated_accuracy  accuracy_group  0  1  2  3  \\\n",
       "0           0.00                   0.0               3  0  0  0  0   \n",
       "1          39.00                   1.0               0  0  0  0  1   \n",
       "2          65.50                   0.5               3  1  0  0  1   \n",
       "3          41.25                   0.5               2  2  0  0  2   \n",
       "4          39.20                   0.5               3  2  0  1  2   \n",
       "\n",
       "   accumulated_accuracy_group  accumulated_actions  \n",
       "0                         0.0                  647  \n",
       "1                         3.0                 1143  \n",
       "2                         1.5                 1230  \n",
       "3                         1.5                 2159  \n",
       "4                         1.6                 2586  \n",
       "\n",
       "[5 rows x 103 columns]"
      ]
     },
     "execution_count": 29,
     "metadata": {},
     "output_type": "execute_result"
    }
   ],
   "source": [
    "reduce_train.head()"
   ]
  },
  {
   "cell_type": "code",
   "execution_count": 30,
   "metadata": {},
   "outputs": [
    {
     "name": "stderr",
     "output_type": "stream",
     "text": [
      "/opt/conda/lib/python3.6/site-packages/ipykernel_launcher.py:3: TqdmDeprecationWarning: This function will be removed in tqdm==5.0.0\n",
      "Please use `tqdm.notebook.tqdm` instead of `tqdm.tqdm_notebook`\n",
      "  This is separate from the ipykernel package so we can avoid doing imports until\n"
     ]
    },
    {
     "data": {
      "application/vnd.jupyter.widget-view+json": {
       "model_id": "736aaaf6113548baa7fef508a9ceb273",
       "version_major": 2,
       "version_minor": 0
      },
      "text/plain": [
       "HBox(children=(FloatProgress(value=0.0, description='Installation_id', max=1000.0, style=ProgressStyle(descrip…"
      ]
     },
     "metadata": {},
     "output_type": "display_data"
    },
    {
     "name": "stdout",
     "output_type": "stream",
     "text": [
      "\n"
     ]
    }
   ],
   "source": [
    "# doing the same thing to the test set\n",
    "new_test = []\n",
    "for ins_id, user_sample in tqdm(test.groupby('installation_id', sort = False), total = test.installation_id.nunique(), desc = 'Installation_id', position = 0):\n",
    "    a = get_data(user_sample, test_set = True)\n",
    "    new_test.append(a)\n",
    "\n",
    "reduce_test = pd.DataFrame(new_test)"
   ]
  },
  {
   "cell_type": "code",
   "execution_count": 31,
   "metadata": {},
   "outputs": [
    {
     "data": {
      "text/plain": [
       "(1000, 103)"
      ]
     },
     "execution_count": 31,
     "metadata": {},
     "output_type": "execute_result"
    }
   ],
   "source": [
    "reduce_test.shape"
   ]
  },
  {
   "cell_type": "code",
   "execution_count": 32,
   "metadata": {},
   "outputs": [
    {
     "data": {
      "text/html": [
       "<div>\n",
       "<style scoped>\n",
       "    .dataframe tbody tr th:only-of-type {\n",
       "        vertical-align: middle;\n",
       "    }\n",
       "\n",
       "    .dataframe tbody tr th {\n",
       "        vertical-align: top;\n",
       "    }\n",
       "\n",
       "    .dataframe thead th {\n",
       "        text-align: right;\n",
       "    }\n",
       "</style>\n",
       "<table border=\"1\" class=\"dataframe\">\n",
       "  <thead>\n",
       "    <tr style=\"text-align: right;\">\n",
       "      <th></th>\n",
       "      <th>Clip</th>\n",
       "      <th>Activity</th>\n",
       "      <th>Assessment</th>\n",
       "      <th>Game</th>\n",
       "      <th>Rulers</th>\n",
       "      <th>Bottle Filler (Activity)</th>\n",
       "      <th>Flower Waterer (Activity)</th>\n",
       "      <th>Watering Hole (Activity)</th>\n",
       "      <th>Slop Problem</th>\n",
       "      <th>Bird Measurer (Assessment)</th>\n",
       "      <th>...</th>\n",
       "      <th>accumulated_uncorrect_attempts</th>\n",
       "      <th>duration_mean</th>\n",
       "      <th>accumulated_accuracy</th>\n",
       "      <th>accuracy_group</th>\n",
       "      <th>0</th>\n",
       "      <th>1</th>\n",
       "      <th>2</th>\n",
       "      <th>3</th>\n",
       "      <th>accumulated_accuracy_group</th>\n",
       "      <th>accumulated_actions</th>\n",
       "    </tr>\n",
       "  </thead>\n",
       "  <tbody>\n",
       "    <tr>\n",
       "      <th>0</th>\n",
       "      <td>5</td>\n",
       "      <td>3</td>\n",
       "      <td>1</td>\n",
       "      <td>3</td>\n",
       "      <td>0</td>\n",
       "      <td>0</td>\n",
       "      <td>0</td>\n",
       "      <td>0</td>\n",
       "      <td>0</td>\n",
       "      <td>0</td>\n",
       "      <td>...</td>\n",
       "      <td>0</td>\n",
       "      <td>30.0</td>\n",
       "      <td>1.000000</td>\n",
       "      <td>0</td>\n",
       "      <td>0</td>\n",
       "      <td>0</td>\n",
       "      <td>0</td>\n",
       "      <td>1</td>\n",
       "      <td>3.0</td>\n",
       "      <td>867</td>\n",
       "    </tr>\n",
       "    <tr>\n",
       "      <th>1</th>\n",
       "      <td>16</td>\n",
       "      <td>11</td>\n",
       "      <td>5</td>\n",
       "      <td>11</td>\n",
       "      <td>0</td>\n",
       "      <td>348</td>\n",
       "      <td>178</td>\n",
       "      <td>73</td>\n",
       "      <td>0</td>\n",
       "      <td>0</td>\n",
       "      <td>...</td>\n",
       "      <td>7</td>\n",
       "      <td>49.6</td>\n",
       "      <td>0.466667</td>\n",
       "      <td>0</td>\n",
       "      <td>1</td>\n",
       "      <td>1</td>\n",
       "      <td>2</td>\n",
       "      <td>1</td>\n",
       "      <td>1.6</td>\n",
       "      <td>2718</td>\n",
       "    </tr>\n",
       "    <tr>\n",
       "      <th>2</th>\n",
       "      <td>2</td>\n",
       "      <td>2</td>\n",
       "      <td>0</td>\n",
       "      <td>0</td>\n",
       "      <td>0</td>\n",
       "      <td>0</td>\n",
       "      <td>51</td>\n",
       "      <td>0</td>\n",
       "      <td>0</td>\n",
       "      <td>0</td>\n",
       "      <td>...</td>\n",
       "      <td>0</td>\n",
       "      <td>0.0</td>\n",
       "      <td>0.000000</td>\n",
       "      <td>0</td>\n",
       "      <td>0</td>\n",
       "      <td>0</td>\n",
       "      <td>0</td>\n",
       "      <td>0</td>\n",
       "      <td>0.0</td>\n",
       "      <td>149</td>\n",
       "    </tr>\n",
       "    <tr>\n",
       "      <th>3</th>\n",
       "      <td>4</td>\n",
       "      <td>2</td>\n",
       "      <td>0</td>\n",
       "      <td>1</td>\n",
       "      <td>0</td>\n",
       "      <td>0</td>\n",
       "      <td>85</td>\n",
       "      <td>0</td>\n",
       "      <td>0</td>\n",
       "      <td>0</td>\n",
       "      <td>...</td>\n",
       "      <td>0</td>\n",
       "      <td>0.0</td>\n",
       "      <td>0.000000</td>\n",
       "      <td>0</td>\n",
       "      <td>0</td>\n",
       "      <td>0</td>\n",
       "      <td>0</td>\n",
       "      <td>0</td>\n",
       "      <td>0.0</td>\n",
       "      <td>233</td>\n",
       "    </tr>\n",
       "    <tr>\n",
       "      <th>4</th>\n",
       "      <td>5</td>\n",
       "      <td>1</td>\n",
       "      <td>0</td>\n",
       "      <td>4</td>\n",
       "      <td>0</td>\n",
       "      <td>0</td>\n",
       "      <td>0</td>\n",
       "      <td>0</td>\n",
       "      <td>0</td>\n",
       "      <td>0</td>\n",
       "      <td>...</td>\n",
       "      <td>0</td>\n",
       "      <td>0.0</td>\n",
       "      <td>0.000000</td>\n",
       "      <td>0</td>\n",
       "      <td>0</td>\n",
       "      <td>0</td>\n",
       "      <td>0</td>\n",
       "      <td>0</td>\n",
       "      <td>0.0</td>\n",
       "      <td>951</td>\n",
       "    </tr>\n",
       "  </tbody>\n",
       "</table>\n",
       "<p>5 rows × 103 columns</p>\n",
       "</div>"
      ],
      "text/plain": [
       "   Clip  Activity  Assessment  Game  Rulers  Bottle Filler (Activity)  \\\n",
       "0     5         3           1     3       0                         0   \n",
       "1    16        11           5    11       0                       348   \n",
       "2     2         2           0     0       0                         0   \n",
       "3     4         2           0     1       0                         0   \n",
       "4     5         1           0     4       0                         0   \n",
       "\n",
       "   Flower Waterer (Activity)  Watering Hole (Activity)  Slop Problem  \\\n",
       "0                          0                         0             0   \n",
       "1                        178                        73             0   \n",
       "2                         51                         0             0   \n",
       "3                         85                         0             0   \n",
       "4                          0                         0             0   \n",
       "\n",
       "   Bird Measurer (Assessment)  ...  accumulated_uncorrect_attempts  \\\n",
       "0                           0  ...                               0   \n",
       "1                           0  ...                               7   \n",
       "2                           0  ...                               0   \n",
       "3                           0  ...                               0   \n",
       "4                           0  ...                               0   \n",
       "\n",
       "   duration_mean  accumulated_accuracy  accuracy_group  0  1  2  3  \\\n",
       "0           30.0              1.000000               0  0  0  0  1   \n",
       "1           49.6              0.466667               0  1  1  2  1   \n",
       "2            0.0              0.000000               0  0  0  0  0   \n",
       "3            0.0              0.000000               0  0  0  0  0   \n",
       "4            0.0              0.000000               0  0  0  0  0   \n",
       "\n",
       "   accumulated_accuracy_group  accumulated_actions  \n",
       "0                         3.0                  867  \n",
       "1                         1.6                 2718  \n",
       "2                         0.0                  149  \n",
       "3                         0.0                  233  \n",
       "4                         0.0                  951  \n",
       "\n",
       "[5 rows x 103 columns]"
      ]
     },
     "execution_count": 32,
     "metadata": {},
     "output_type": "execute_result"
    }
   ],
   "source": [
    "reduce_test.head()"
   ]
  },
  {
   "cell_type": "code",
   "execution_count": 33,
   "metadata": {},
   "outputs": [],
   "source": [
    "def eval_qwk_lgb_regr(y_true, y_pred):\n",
    "    \"\"\"\n",
    "    Fast cappa eval function for lgb.\n",
    "    \"\"\"\n",
    "    dist = Counter(reduce_train['accuracy_group'])\n",
    "    for k in dist:\n",
    "        dist[k] /= len(reduce_train)\n",
    "    reduce_train['accuracy_group'].hist()\n",
    "    \n",
    "    acum = 0\n",
    "    bound = {}\n",
    "    for i in range(3):\n",
    "        acum += dist[i]\n",
    "        bound[i] = np.percentile(y_pred, acum * 100)\n",
    "\n",
    "    def classify(x):\n",
    "        if x <= bound[0]:\n",
    "            return 0\n",
    "        elif x <= bound[1]:\n",
    "            return 1\n",
    "        elif x <= bound[2]:\n",
    "            return 2\n",
    "        else:\n",
    "            return 3\n",
    "\n",
    "    y_pred = np.array(list(map(classify, y_pred))).reshape(y_true.shape)\n",
    "\n",
    "    return 'cappa', cohen_kappa_score(y_true, y_pred, weights='quadratic'), True"
   ]
  },
  {
   "cell_type": "code",
   "execution_count": 34,
   "metadata": {},
   "outputs": [],
   "source": [
    "def cohenkappa(ypred, y):\n",
    "    y = y.get_label().astype(\"int\")\n",
    "    ypred = ypred.reshape((4, -1)).argmax(axis = 0)\n",
    "    loss = cohenkappascore(y, y_pred, weights = 'quadratic')\n",
    "    return \"cappa\", loss, True"
   ]
  },
  {
   "cell_type": "code",
   "execution_count": 35,
   "metadata": {},
   "outputs": [],
   "source": [
    "def run_feature_selection(reduce_train, reduce_test, usefull_features, new_features):\n",
    "    kf = StratifiedKFold(n_splits = 10, shuffle = True)\n",
    "    target = 'accuracy_group'\n",
    "    oof_pred = np.zeros((len(reduce_train), 4))\n",
    "    for fold, (tr_ind, val_ind) in enumerate(kf.split(reduce_train, reduce_train[target])):\n",
    "        print('Fold {}'.format(fold + 1))\n",
    "        x_train, x_val = reduce_train[usefull_features].iloc[tr_ind], reduce_train[usefull_features].iloc[val_ind]\n",
    "        y_train, y_val = reduce_train[target][tr_ind], reduce_train[target][val_ind]\n",
    "        train_set = lgb.Dataset(x_train, y_train, categorical_feature = categoricals)\n",
    "        \n",
    "        params = {\n",
    "            'learning_rate': 0.01,\n",
    "            'metric' : 'multiclass',\n",
    "            'objective' : 'multiclass',\n",
    "            'num_classes' : 4,\n",
    "            'feature_fraction' : 0.75,\n",
    "            'subsample' : 0.75,\n",
    "            'n_jobs' : -1,\n",
    "            'seed' : 50,\n",
    "            'max_depth' : 10\n",
    "        }\n",
    "        \n",
    "        model = lgb.train(params, train_set, num_boost_round = 100000, early_stopping_rounds = 100, valid_sets = [train_set, val_set], verbose_eval = 500)\n",
    "        oof_pred[val_ind] = model.predict(x_val)\n",
    "        # using cohem kappa because its the evaluation metric of the competition\n",
    "        loss_score = cohen_kappa_score(reduce_train[target], np.argmax(oof_pred, axis = 1), weights = 'quadratic')\n",
    "        score = loss_score\n",
    "        usefull_new_features = []\n",
    "        for i in new_features:\n",
    "            oof_pred = np.zeros((len(reduce_train), 4))\n",
    "            evaluating_features = usefull_features + usefull_new_features + [i]\n",
    "            print('Evaluating {} column'.format(i))\n",
    "            print('Our best cohen kappa score is : {}'.format(score))\n",
    "            for fold, (tr_ind, val_ind) in enumerate(kf.split(reduce_train, reduce_train[target])):\n",
    "                print('Fold {}'.format(fold + 1))\n",
    "                x_train, x_val = reduce_train[evaluating_features].iloc[tr_ind], reduce_train[evaluating_features].iloc[val_ind]\n",
    "                y_train, y_val = reduce_train[target][tr_ind], reduce_train[target][val_ind]\n",
    "                train_set = lgb.Dataset(x_train, y_train, categorical_feature = categoricals)\n",
    "                val_set = lgb.Dataset(x_val, y_val, categorical_feature = categoricals)\n",
    "                model = lgb.train(params,train_set, num_boost_round = 100000, early_stopping_rounds = 100, valid_sets = [train_set, val_set], verbose_eval = 500)\n",
    "                oof_pred[val_ind] = model.predict(x_val)\n",
    "            loss_score = cohen_kappa_score(reduce_train[target], np.argmax(oof_pred, axis = 1), weights = 'quadratic')\n",
    "            print('Our new cohen kappa score is : {}'.format(loss_score))\n",
    "            if loss_score > score:\n",
    "                print('Feature {} is usefull, adding feature to usefull_new_feature_list'.format(i))\n",
    "                usefull_new_features.append(i)\n",
    "                score = loss_score\n",
    "            else:\n",
    "                print('Feature {} is not usefull'.format(i))\n",
    "            gc.collect\n",
    "        print('The best features are: ' , usefull_new_features)\n",
    "        print('Our best cohen kappa score is : ', score)\n",
    "        \n",
    "        return usefull_features + usefull_new_features"
   ]
  },
  {
   "cell_type": "code",
   "execution_count": 36,
   "metadata": {},
   "outputs": [],
   "source": [
    "def run_lgb_regression(reduce_train, reduce_test, usefull_features, n_splits):\n",
    "    kf = StratifiedKFold(n_splits = n_splits, shuffle = True)\n",
    "    target = 'accuracy_group'\n",
    "    oof_pred = np.zeros((len(reduce_train), ))\n",
    "    y_pred = np.zeros((len(reduce_test), ))\n",
    "    for fold, (tr_ind, val_ind) in enumerate(kf.split(reduce_train, reduce_train[target])):\n",
    "        print('Fold {}'.format(fold + 1))\n",
    "        x_train, x_val = reduce_train[usefull_features].iloc[tr_ind], reduce_train[usefull_features].iloc[val_ind]\n",
    "        y_train, y_val = reduce_train[target][tr_ind], reduce_train[target][val_ind]\n",
    "        train_set = lgb.Dataset(x_train, y_train, categorical_feature = categoricals)\n",
    "        val_set = lgb.Dataset(x_val, y_val, categorical_feature = categoricals)\n",
    "        \n",
    "        params = {\n",
    "            'n_estimators': 5000,\n",
    "            'boosting_type': 'gbdt',\n",
    "            'objective': 'regression',\n",
    "            'metric': 'rmse',\n",
    "            'subsample': 0.75,\n",
    "            'subsample_freq': 1,\n",
    "            'learning_rate': 0.01,\n",
    "            'feature_fraction': 0.9,\n",
    "            'max_depth': 15,\n",
    "            'lambda_l1': 1,\n",
    "            'lambda_l2': 1,\n",
    "            'verbose': 100,\n",
    "            'early_stopping_rounds': 100\n",
    "        }\n",
    "        \n",
    "        model = lgb.train(params, train_set, num_boost_round = 1000000, early_stopping_rounds = 300, valid_sets = [train_set, val_set], verbose_eval = 100)\n",
    "        oof_pred[val_ind] = model.predict(x_val)\n",
    "        y_pred += model.predict(reduce_test[usefull_features]) / n_splits\n",
    "    _, loss_score, _ = eval_qwk_lgb_regr(reduce_train[target], oof_pred)\n",
    "    print('Our oof cohen kappa score is: ' , loss_score)\n",
    "    \n",
    "    return y_pred"
   ]
  },
  {
   "cell_type": "code",
   "execution_count": 37,
   "metadata": {},
   "outputs": [],
   "source": [
    "def run_xgb_regression(reduce_train, reduce_test, usefull_features, n_splits):\n",
    "    kf = StratifiedKFold(n_splits = n_splits, shuffle = True)\n",
    "    target = 'accuracy_group'\n",
    "    oof_pred = np.zeros((len(reduce_train), ))\n",
    "    y_pred = np.zeros((len(reduce_test), ))\n",
    "    for fold, (tr_ind, val_ind) in enumerate(kf.split(reduce_train, reduce_train[target])):\n",
    "        print('Fold {}'.format(fold + 1))\n",
    "        x_train, x_val = reduce_train[usefull_features].iloc[tr_ind], reduce_train[usefull_features].iloc[val_ind]\n",
    "        y_train, y_val = reduce_train[target][tr_ind], reduce_train[target][val_ind]\n",
    "        xgb_train = xgb.DMatrix(x_train, y_train)\n",
    "        xgb_eval = xgb.DMatrix(x_val, y_val)\n",
    "        \n",
    "        pars = {\n",
    "            'colsample_bytree': 0.8,\n",
    "            'learning_rate': 0.01,\n",
    "            'max_depth': 10,\n",
    "            'subsample': 1,\n",
    "            'objective': 'reg:squarederror',\n",
    "            #'eval_metric':'rmse',\n",
    "            'min_child_weight': 3,\n",
    "            'gamma': 0.25,\n",
    "            'n_estimators': 5000\n",
    "        }\n",
    "        \n",
    "        model = xgb.train(pars, xgb_train, num_boost_round = 5000, evals = [(xgb_train, 'train'), (xgb_eval, 'val')], verbose_eval = 100, early_stopping_rounds = 100)\n",
    "        val_x = xgb.DMatrix(x_val)\n",
    "        oof_pred[val_ind] = model.predict(val_x)\n",
    "        test_x = xgb.DMatrix(reduce_test[usefull_features])\n",
    "        y_pred += model.predict(test_x) / n_splits\n",
    "    _, loss_score, _ = eval_qwk_lgb_regr(reduce_train[target], oof_pred)\n",
    "    print('Our oof cohen kappa score is ' , loss_score)\n",
    "    \n",
    "    return y_pred"
   ]
  },
  {
   "cell_type": "code",
   "execution_count": 38,
   "metadata": {},
   "outputs": [],
   "source": [
    "# call feature engineering function\n",
    "features = reduce_train.loc[(reduce_train.sum(axis = 1) != 0), (reduce_train.sum(axis = 0) != 0)].columns\n",
    "# delete useless columns\n",
    "features = [x for x in features if x not in ['accuracy_group', 'installation_id']]"
   ]
  },
  {
   "cell_type": "code",
   "execution_count": 39,
   "metadata": {},
   "outputs": [
    {
     "name": "stdout",
     "output_type": "stream",
     "text": [
      "Rulers 0.0 0.0\n",
      "Slop Problem 0.0 0.0\n",
      "Bird Measurer (Assessment) 0.0 0.0\n",
      "Chest Sorter (Assessment) 0.0 0.0\n",
      "Costume Box 0.0 0.0\n",
      "Mushroom Sorter (Assessment) 0.0 0.0\n",
      "Crystal Caves - Level 1 0.0 0.0\n",
      "Pirate's Tale 0.0 0.0\n",
      "Cart Balancer (Assessment) 0.0 0.0\n",
      "Heavy, Heavier, Heaviest 0.0 0.0\n",
      "Crystal Caves - Level 3 0.0 0.0\n",
      "Cauldron Filler (Assessment) 0.0 0.0\n",
      "Tree Top City - Level 2 0.0 0.0\n",
      "Tree Top City - Level 3 0.0 0.0\n",
      "Welcome to Lost Lagoon! 0.0 0.0\n",
      "12 Monkeys 0.0 0.0\n",
      "Honey Cake 0.0 0.0\n",
      "Crystal Caves - Level 2 0.0 0.0\n",
      "Treasure Map 0.0 0.0\n",
      "Ordering Spheres 0.0 0.0\n",
      "Tree Top City - Level 1 0.0 0.0\n",
      "Magma Peak - Level 1 0.0 0.0\n",
      "Lifting Heavy Things 0.0 0.0\n",
      "Balancing Act 0.0 0.0\n",
      "Magma Peak - Level 2 0.0 0.0\n"
     ]
    }
   ],
   "source": [
    "to_exclude = []\n",
    "adjusted_test = reduce_test.copy()\n",
    "for feature in adjusted_test.columns:\n",
    "    if feature not in ['accuracy_group', 'installation_id', 'accuracy_group', 'session_title']:\n",
    "        data = reduce_train[feature]\n",
    "        train_mean = data.mean()\n",
    "        data = adjusted_test[feature]\n",
    "        test_mean = data.mean()\n",
    "        try:\n",
    "            adjust_factor = train_mean / test_mean\n",
    "            if adjust_factor > 10 or adjust_factor < 0.1:\n",
    "                to_exclude.append(feature)\n",
    "                print(feature, train_mean, test_mean)\n",
    "            else:\n",
    "                adjusted_test[feature] *= adjust_factor\n",
    "        except:\n",
    "            to_exclude.append(feature)\n",
    "            print(feature, train_mean, test_mean)\n",
    "            "
   ]
  },
  {
   "cell_type": "code",
   "execution_count": 40,
   "metadata": {},
   "outputs": [
    {
     "data": {
      "text/plain": [
       "(17690, 76)"
      ]
     },
     "execution_count": 40,
     "metadata": {},
     "output_type": "execute_result"
    }
   ],
   "source": [
    "features = [x for x in features if x not in to_exclude]\n",
    "reduce_train[features].shape"
   ]
  },
  {
   "cell_type": "code",
   "execution_count": 41,
   "metadata": {},
   "outputs": [
    {
     "name": "stdout",
     "output_type": "stream",
     "text": [
      "Fold 1\n",
      "Training until validation scores don't improve for 100 rounds\n"
     ]
    },
    {
     "name": "stderr",
     "output_type": "stream",
     "text": [
      "/opt/conda/lib/python3.6/site-packages/lightgbm/engine.py:148: UserWarning: Found `n_estimators` in params. Will use it instead of argument\n",
      "  warnings.warn(\"Found `{}` in params. Will use it instead of argument\".format(alias))\n",
      "/opt/conda/lib/python3.6/site-packages/lightgbm/engine.py:153: UserWarning: Found `early_stopping_rounds` in params. Will use it instead of argument\n",
      "  warnings.warn(\"Found `{}` in params. Will use it instead of argument\".format(alias))\n",
      "/opt/conda/lib/python3.6/site-packages/lightgbm/basic.py:1291: UserWarning: Using categorical_feature in Dataset.\n",
      "  warnings.warn('Using categorical_feature in Dataset.')\n"
     ]
    },
    {
     "name": "stdout",
     "output_type": "stream",
     "text": [
      "[100]\ttraining's rmse: 1.05054\tvalid_1's rmse: 1.06514\n",
      "[200]\ttraining's rmse: 0.987852\tvalid_1's rmse: 1.01836\n",
      "[300]\ttraining's rmse: 0.955952\tvalid_1's rmse: 1.0033\n",
      "[400]\ttraining's rmse: 0.933267\tvalid_1's rmse: 0.996046\n",
      "[500]\ttraining's rmse: 0.914669\tvalid_1's rmse: 0.992356\n",
      "[600]\ttraining's rmse: 0.89862\tvalid_1's rmse: 0.989976\n",
      "[700]\ttraining's rmse: 0.883957\tvalid_1's rmse: 0.988741\n",
      "[800]\ttraining's rmse: 0.870489\tvalid_1's rmse: 0.987707\n",
      "[900]\ttraining's rmse: 0.857814\tvalid_1's rmse: 0.986837\n",
      "[1000]\ttraining's rmse: 0.846121\tvalid_1's rmse: 0.986329\n",
      "[1100]\ttraining's rmse: 0.835142\tvalid_1's rmse: 0.98612\n",
      "[1200]\ttraining's rmse: 0.824411\tvalid_1's rmse: 0.985877\n",
      "[1300]\ttraining's rmse: 0.81405\tvalid_1's rmse: 0.985933\n",
      "Early stopping, best iteration is:\n",
      "[1225]\ttraining's rmse: 0.821755\tvalid_1's rmse: 0.985691\n",
      "Fold 2\n",
      "Training until validation scores don't improve for 100 rounds\n",
      "[100]\ttraining's rmse: 1.04945\tvalid_1's rmse: 1.07001\n",
      "[200]\ttraining's rmse: 0.98589\tvalid_1's rmse: 1.02582\n",
      "[300]\ttraining's rmse: 0.953383\tvalid_1's rmse: 1.0116\n",
      "[400]\ttraining's rmse: 0.930484\tvalid_1's rmse: 1.00562\n",
      "[500]\ttraining's rmse: 0.91203\tvalid_1's rmse: 1.00236\n",
      "[600]\ttraining's rmse: 0.895969\tvalid_1's rmse: 1.00014\n",
      "[700]\ttraining's rmse: 0.881518\tvalid_1's rmse: 0.998537\n",
      "[800]\ttraining's rmse: 0.868022\tvalid_1's rmse: 0.997685\n",
      "[900]\ttraining's rmse: 0.855592\tvalid_1's rmse: 0.996708\n",
      "[1000]\ttraining's rmse: 0.843768\tvalid_1's rmse: 0.996606\n",
      "Early stopping, best iteration is:\n",
      "[971]\ttraining's rmse: 0.847157\tvalid_1's rmse: 0.996405\n",
      "Fold 3\n",
      "Training until validation scores don't improve for 100 rounds\n",
      "[100]\ttraining's rmse: 1.04886\tvalid_1's rmse: 1.07014\n",
      "[200]\ttraining's rmse: 0.985238\tvalid_1's rmse: 1.02771\n",
      "[300]\ttraining's rmse: 0.953312\tvalid_1's rmse: 1.01415\n",
      "[400]\ttraining's rmse: 0.930866\tvalid_1's rmse: 1.0082\n",
      "[500]\ttraining's rmse: 0.912604\tvalid_1's rmse: 1.00461\n",
      "[600]\ttraining's rmse: 0.896608\tvalid_1's rmse: 1.00223\n",
      "[700]\ttraining's rmse: 0.882145\tvalid_1's rmse: 1.00069\n",
      "[800]\ttraining's rmse: 0.868957\tvalid_1's rmse: 0.999414\n",
      "[900]\ttraining's rmse: 0.856376\tvalid_1's rmse: 0.999005\n",
      "[1000]\ttraining's rmse: 0.844374\tvalid_1's rmse: 0.998706\n",
      "[1100]\ttraining's rmse: 0.83329\tvalid_1's rmse: 0.998855\n",
      "Early stopping, best iteration is:\n",
      "[1006]\ttraining's rmse: 0.84371\tvalid_1's rmse: 0.998641\n",
      "Fold 4\n",
      "Training until validation scores don't improve for 100 rounds\n",
      "[100]\ttraining's rmse: 1.05075\tvalid_1's rmse: 1.06338\n",
      "[200]\ttraining's rmse: 0.988334\tvalid_1's rmse: 1.01705\n",
      "[300]\ttraining's rmse: 0.956948\tvalid_1's rmse: 1.00077\n",
      "[400]\ttraining's rmse: 0.934725\tvalid_1's rmse: 0.993537\n",
      "[500]\ttraining's rmse: 0.916532\tvalid_1's rmse: 0.989473\n",
      "[600]\ttraining's rmse: 0.900469\tvalid_1's rmse: 0.987064\n",
      "[700]\ttraining's rmse: 0.886014\tvalid_1's rmse: 0.985448\n",
      "[800]\ttraining's rmse: 0.872748\tvalid_1's rmse: 0.984963\n",
      "[900]\ttraining's rmse: 0.860411\tvalid_1's rmse: 0.984294\n",
      "[1000]\ttraining's rmse: 0.848549\tvalid_1's rmse: 0.983773\n",
      "[1100]\ttraining's rmse: 0.837395\tvalid_1's rmse: 0.983686\n",
      "[1200]\ttraining's rmse: 0.826692\tvalid_1's rmse: 0.983326\n",
      "Early stopping, best iteration is:\n",
      "[1186]\ttraining's rmse: 0.828183\tvalid_1's rmse: 0.983257\n",
      "Fold 5\n",
      "Training until validation scores don't improve for 100 rounds\n",
      "[100]\ttraining's rmse: 1.04621\tvalid_1's rmse: 1.0765\n",
      "[200]\ttraining's rmse: 0.98343\tvalid_1's rmse: 1.03598\n",
      "[300]\ttraining's rmse: 0.951989\tvalid_1's rmse: 1.02228\n",
      "[400]\ttraining's rmse: 0.92977\tvalid_1's rmse: 1.01555\n",
      "[500]\ttraining's rmse: 0.91139\tvalid_1's rmse: 1.01201\n",
      "[600]\ttraining's rmse: 0.895528\tvalid_1's rmse: 1.01008\n",
      "[700]\ttraining's rmse: 0.881248\tvalid_1's rmse: 1.00887\n",
      "[800]\ttraining's rmse: 0.867847\tvalid_1's rmse: 1.0083\n",
      "[900]\ttraining's rmse: 0.855477\tvalid_1's rmse: 1.00801\n",
      "[1000]\ttraining's rmse: 0.843521\tvalid_1's rmse: 1.00784\n",
      "Early stopping, best iteration is:\n",
      "[982]\ttraining's rmse: 0.845623\tvalid_1's rmse: 1.00772\n",
      "Our oof cohen kappa score is:  0.5823971776951955\n"
     ]
    },
    {
     "data": {
      "image/png": "[encoded data removed]",
      "text/plain": [
       "<Figure size 432x288 with 1 Axes>"
      ]
     },
     "metadata": {
      "needs_background": "light"
     },
     "output_type": "display_data"
    }
   ],
   "source": [
    "y_lgb_pred = run_lgb_regression(reduce_train, adjusted_test, features, 5)"
   ]
  },
  {
   "cell_type": "code",
   "execution_count": 42,
   "metadata": {},
   "outputs": [
    {
     "name": "stdout",
     "output_type": "stream",
     "text": [
      "Fold 1\n",
      "[0]\ttrain-rmse:1.85648\tval-rmse:1.85716\n",
      "Multiple eval metrics have been passed: 'val-rmse' will be used for early stopping.\n",
      "\n",
      "Will train until val-rmse hasn't improved in 100 rounds.\n"
     ]
    },
    {
     "name": "stderr",
     "output_type": "stream",
     "text": [
      "/opt/conda/lib/python3.6/site-packages/xgboost/core.py:587: FutureWarning: Series.base is deprecated and will be removed in a future version\n",
      "  if getattr(data, 'base', None) is not None and \\\n"
     ]
    },
    {
     "name": "stdout",
     "output_type": "stream",
     "text": [
      "[100]\ttrain-rmse:1.03027\tval-rmse:1.16845\n",
      "[200]\ttrain-rmse:0.759243\tval-rmse:1.02936\n",
      "[300]\ttrain-rmse:0.653274\tval-rmse:1.00727\n",
      "[400]\ttrain-rmse:0.597511\tval-rmse:1.00557\n",
      "Stopping. Best iteration:\n",
      "[347]\ttrain-rmse:0.623526\tval-rmse:1.00523\n",
      "\n",
      "Fold 2\n",
      "[0]\ttrain-rmse:1.85648\tval-rmse:1.85747\n",
      "Multiple eval metrics have been passed: 'val-rmse' will be used for early stopping.\n",
      "\n",
      "Will train until val-rmse hasn't improved in 100 rounds.\n",
      "[100]\ttrain-rmse:1.04078\tval-rmse:1.16499\n",
      "[200]\ttrain-rmse:0.778846\tval-rmse:1.02199\n",
      "[300]\ttrain-rmse:0.674753\tval-rmse:0.998062\n",
      "[400]\ttrain-rmse:0.618534\tval-rmse:0.992837\n",
      "[500]\ttrain-rmse:0.578164\tval-rmse:0.991738\n",
      "[600]\ttrain-rmse:0.544472\tval-rmse:0.991681\n",
      "[700]\ttrain-rmse:0.518892\tval-rmse:0.991683\n",
      "Stopping. Best iteration:\n",
      "[668]\ttrain-rmse:0.525841\tval-rmse:0.991289\n",
      "\n",
      "Fold 3\n",
      "[0]\ttrain-rmse:1.85644\tval-rmse:1.85756\n",
      "Multiple eval metrics have been passed: 'val-rmse' will be used for early stopping.\n",
      "\n",
      "Will train until val-rmse hasn't improved in 100 rounds.\n",
      "[100]\ttrain-rmse:1.02614\tval-rmse:1.16647\n",
      "[200]\ttrain-rmse:0.755706\tval-rmse:1.0226\n",
      "[300]\ttrain-rmse:0.648984\tval-rmse:0.999425\n",
      "[400]\ttrain-rmse:0.596385\tval-rmse:0.993538\n",
      "[500]\ttrain-rmse:0.558576\tval-rmse:0.992788\n",
      "[600]\ttrain-rmse:0.524196\tval-rmse:0.992383\n",
      "[700]\ttrain-rmse:0.498824\tval-rmse:0.991843\n",
      "[800]\ttrain-rmse:0.477105\tval-rmse:0.991796\n",
      "[900]\ttrain-rmse:0.455257\tval-rmse:0.991874\n",
      "Stopping. Best iteration:\n",
      "[803]\ttrain-rmse:0.476569\tval-rmse:0.991754\n",
      "\n",
      "Fold 4\n",
      "[0]\ttrain-rmse:1.85648\tval-rmse:1.85755\n",
      "Multiple eval metrics have been passed: 'val-rmse' will be used for early stopping.\n",
      "\n",
      "Will train until val-rmse hasn't improved in 100 rounds.\n",
      "[100]\ttrain-rmse:1.02697\tval-rmse:1.17335\n",
      "[200]\ttrain-rmse:0.756985\tval-rmse:1.03489\n",
      "[300]\ttrain-rmse:0.655077\tval-rmse:1.01301\n",
      "[400]\ttrain-rmse:0.598716\tval-rmse:1.00842\n",
      "[500]\ttrain-rmse:0.561949\tval-rmse:1.00768\n",
      "[600]\ttrain-rmse:0.529914\tval-rmse:1.0078\n",
      "Stopping. Best iteration:\n",
      "[502]\ttrain-rmse:0.561136\tval-rmse:1.00763\n",
      "\n",
      "Fold 5\n",
      "[0]\ttrain-rmse:1.85637\tval-rmse:1.85763\n",
      "Multiple eval metrics have been passed: 'val-rmse' will be used for early stopping.\n",
      "\n",
      "Will train until val-rmse hasn't improved in 100 rounds.\n",
      "[100]\ttrain-rmse:1.02491\tval-rmse:1.17518\n",
      "[200]\ttrain-rmse:0.755613\tval-rmse:1.04468\n",
      "[300]\ttrain-rmse:0.6534\tval-rmse:1.0249\n",
      "[400]\ttrain-rmse:0.596331\tval-rmse:1.02288\n",
      "[500]\ttrain-rmse:0.556988\tval-rmse:1.0234\n",
      "Stopping. Best iteration:\n",
      "[442]\ttrain-rmse:0.57837\tval-rmse:1.02245\n",
      "\n",
      "Our oof cohen kappa score is  0.5699778959554144\n"
     ]
    },
    {
     "data": {
      "image/png": "[encoded data removed]",
      "text/plain": [
       "<Figure size 432x288 with 1 Axes>"
      ]
     },
     "metadata": {
      "needs_background": "light"
     },
     "output_type": "display_data"
    }
   ],
   "source": [
    "y_xgb_pred = run_xgb_regression(reduce_train, adjusted_test, features, 5)"
   ]
  },
  {
   "cell_type": "code",
   "execution_count": 43,
   "metadata": {},
   "outputs": [
    {
     "name": "stdout",
     "output_type": "stream",
     "text": [
      "(1000,) (1000,) (1000,)\n"
     ]
    }
   ],
   "source": [
    "lgb_weight = 0.7\n",
    "final_pred = y_lgb_pred * lgb_weight + y_xgb_pred * (1 - lgb_weight)\n",
    "print(final_pred.shape, y_lgb_pred.shape, y_xgb_pred.shape)"
   ]
  },
  {
   "cell_type": "code",
   "execution_count": 44,
   "metadata": {},
   "outputs": [
    {
     "name": "stdout",
     "output_type": "stream",
     "text": [
      "{0: 1.3746859092620616, 1: 1.6792663912138355, 2: 1.896572498502405}\n"
     ]
    },
    {
     "data": {
      "text/plain": [
       "3    0.500\n",
       "0    0.239\n",
       "1    0.136\n",
       "2    0.125\n",
       "Name: accuracy_group, dtype: float64"
      ]
     },
     "execution_count": 44,
     "metadata": {},
     "output_type": "execute_result"
    },
    {
     "data": {
      "image/png": "[encoded data removed]",
      "text/plain": [
       "<Figure size 432x288 with 1 Axes>"
      ]
     },
     "metadata": {
      "needs_background": "light"
     },
     "output_type": "display_data"
    }
   ],
   "source": [
    "dist = Counter(reduce_train['accuracy_group'])\n",
    "for k in dist:\n",
    "    dist[k] /= len(reduce_train)\n",
    "reduce_train['accuracy_group'].hist()\n",
    "\n",
    "acum = 0\n",
    "bound = {}\n",
    "for i in range(3):\n",
    "    acum += dist[i]\n",
    "    bound[i] = np.percentile(final_pred, acum * 100)\n",
    "print(bound)\n",
    "\n",
    "def classify(x):\n",
    "    if x <= bound[0]:\n",
    "        return 0\n",
    "    elif x <= bound[1]:\n",
    "        return 1\n",
    "    elif x <= bound[2]:\n",
    "        return 2\n",
    "    else:\n",
    "        return 3\n",
    "    \n",
    "final_pred = np.array(list(map(classify, final_pred)))\n",
    "\n",
    "sample_submission['accuracy_group'] = final_pred.astype(int)\n",
    "sample_submission.to_csv('submission.csv', index = False)\n",
    "sample_submission['accuracy_group'].value_counts(normalize = True)"
   ]
  }
 ],
 "metadata": {
  "kernelspec": {
   "display_name": "Python 3",
   "language": "python",
   "name": "python3"
  },
  "language_info": {
   "codemirror_mode": {
    "name": "ipython",
    "version": 3
   },
   "file_extension": ".py",
   "mimetype": "text/x-python",
   "name": "python",
   "nbconvert_exporter": "python",
   "pygments_lexer": "ipython3",
   "version": "3.6.6"
  },
  "widgets": {
   "application/vnd.jupyter.widget-state+json": {
    "state": {
     "07a8277d35984f4e991e71f60b70c983": {
      "model_module": "@jupyter-widgets/controls",
      "model_module_version": "1.5.0",
      "model_name": "FloatProgressModel",
      "state": {
       "_dom_classes": [],
       "_model_module": "@jupyter-widgets/controls",
       "_model_module_version": "1.5.0",
       "_model_name": "FloatProgressModel",
       "_view_count": null,
       "_view_module": "@jupyter-widgets/controls",
       "_view_module_version": "1.5.0",
       "_view_name": "ProgressView",
       "bar_style": "success",
       "description": "Installation_id: 100%",
       "description_tooltip": null,
       "layout": "IPY_MODEL_84ff3b546d604217be361ef924c743de",
       "max": 3614.0,
       "min": 0.0,
       "orientation": "horizontal",
       "style": "IPY_MODEL_eaab4042a24e4c78bdce19c94b901b65",
       "value": 3614.0
      }
     },
     "3c04f31eac864718bb4b9b23c3041cc4": {
      "model_module": "@jupyter-widgets/controls",
      "model_module_version": "1.5.0",
      "model_name": "FloatProgressModel",
      "state": {
       "_dom_classes": [],
       "_model_module": "@jupyter-widgets/controls",
       "_model_module_version": "1.5.0",
       "_model_name": "FloatProgressModel",
       "_view_count": null,
       "_view_module": "@jupyter-widgets/controls",
       "_view_module_version": "1.5.0",
       "_view_name": "ProgressView",
       "bar_style": "success",
       "description": "Installation_id: 100%",
       "description_tooltip": null,
       "layout": "IPY_MODEL_91783a4326f840d4a8631b6705097efd",
       "max": 1000.0,
       "min": 0.0,
       "orientation": "horizontal",
       "style": "IPY_MODEL_fae60a0cf97b49d099280ac677f25527",
       "value": 1000.0
      }
     },
     "619573487a204bab92fcf72872b5e568": {
      "model_module": "@jupyter-widgets/base",
      "model_module_version": "1.2.0",
      "model_name": "LayoutModel",
      "state": {
       "_model_module": "@jupyter-widgets/base",
       "_model_module_version": "1.2.0",
       "_model_name": "LayoutModel",
       "_view_count": null,
       "_view_module": "@jupyter-widgets/base",
       "_view_module_version": "1.2.0",
       "_view_name": "LayoutView",
       "align_content": null,
       "align_items": null,
       "align_self": null,
       "border": null,
       "bottom": null,
       "display": null,
       "flex": null,
       "flex_flow": null,
       "grid_area": null,
       "grid_auto_columns": null,
       "grid_auto_flow": null,
       "grid_auto_rows": null,
       "grid_column": null,
       "grid_gap": null,
       "grid_row": null,
       "grid_template_areas": null,
       "grid_template_columns": null,
       "grid_template_rows": null,
       "height": null,
       "justify_content": null,
       "justify_items": null,
       "left": null,
       "margin": null,
       "max_height": null,
       "max_width": null,
       "min_height": null,
       "min_width": null,
       "object_fit": null,
       "object_position": null,
       "order": null,
       "overflow": null,
       "overflow_x": null,
       "overflow_y": null,
       "padding": null,
       "right": null,
       "top": null,
       "visibility": null,
       "width": null
      }
     },
     "709d1f95065d4ce6b880162f8992b78a": {
      "model_module": "@jupyter-widgets/base",
      "model_module_version": "1.2.0",
      "model_name": "LayoutModel",
      "state": {
       "_model_module": "@jupyter-widgets/base",
       "_model_module_version": "1.2.0",
       "_model_name": "LayoutModel",
       "_view_count": null,
       "_view_module": "@jupyter-widgets/base",
       "_view_module_version": "1.2.0",
       "_view_name": "LayoutView",
       "align_content": null,
       "align_items": null,
       "align_self": null,
       "border": null,
       "bottom": null,
       "display": null,
       "flex": null,
       "flex_flow": null,
       "grid_area": null,
       "grid_auto_columns": null,
       "grid_auto_flow": null,
       "grid_auto_rows": null,
       "grid_column": null,
       "grid_gap": null,
       "grid_row": null,
       "grid_template_areas": null,
       "grid_template_columns": null,
       "grid_template_rows": null,
       "height": null,
       "justify_content": null,
       "justify_items": null,
       "left": null,
       "margin": null,
       "max_height": null,
       "max_width": null,
       "min_height": null,
       "min_width": null,
       "object_fit": null,
       "object_position": null,
       "order": null,
       "overflow": null,
       "overflow_x": null,
       "overflow_y": null,
       "padding": null,
       "right": null,
       "top": null,
       "visibility": null,
       "width": null
      }
     },
     "736aaaf6113548baa7fef508a9ceb273": {
      "model_module": "@jupyter-widgets/controls",
      "model_module_version": "1.5.0",
      "model_name": "HBoxModel",
      "state": {
       "_dom_classes": [],
       "_model_module": "@jupyter-widgets/controls",
       "_model_module_version": "1.5.0",
       "_model_name": "HBoxModel",
       "_view_count": null,
       "_view_module": "@jupyter-widgets/controls",
       "_view_module_version": "1.5.0",
       "_view_name": "HBoxView",
       "box_style": "",
       "children": [
        "IPY_MODEL_3c04f31eac864718bb4b9b23c3041cc4",
        "IPY_MODEL_f629c0ea0e244f13a6d83461b0d77dc0"
       ],
       "layout": "IPY_MODEL_a11c8b393f9a48c2af15ce9b96bb8732"
      }
     },
     "7bc0ab2bdb8948fe9e0fd91700fa15fc": {
      "model_module": "@jupyter-widgets/controls",
      "model_module_version": "1.5.0",
      "model_name": "DescriptionStyleModel",
      "state": {
       "_model_module": "@jupyter-widgets/controls",
       "_model_module_version": "1.5.0",
       "_model_name": "DescriptionStyleModel",
       "_view_count": null,
       "_view_module": "@jupyter-widgets/base",
       "_view_module_version": "1.2.0",
       "_view_name": "StyleView",
       "description_width": ""
      }
     },
     "84ff3b546d604217be361ef924c743de": {
      "model_module": "@jupyter-widgets/base",
      "model_module_version": "1.2.0",
      "model_name": "LayoutModel",
      "state": {
       "_model_module": "@jupyter-widgets/base",
       "_model_module_version": "1.2.0",
       "_model_name": "LayoutModel",
       "_view_count": null,
       "_view_module": "@jupyter-widgets/base",
       "_view_module_version": "1.2.0",
       "_view_name": "LayoutView",
       "align_content": null,
       "align_items": null,
       "align_self": null,
       "border": null,
       "bottom": null,
       "display": null,
       "flex": null,
       "flex_flow": null,
       "grid_area": null,
       "grid_auto_columns": null,
       "grid_auto_flow": null,
       "grid_auto_rows": null,
       "grid_column": null,
       "grid_gap": null,
       "grid_row": null,
       "grid_template_areas": null,
       "grid_template_columns": null,
       "grid_template_rows": null,
       "height": null,
       "justify_content": null,
       "justify_items": null,
       "left": null,
       "margin": null,
       "max_height": null,
       "max_width": null,
       "min_height": null,
       "min_width": null,
       "object_fit": null,
       "object_position": null,
       "order": null,
       "overflow": null,
       "overflow_x": null,
       "overflow_y": null,
       "padding": null,
       "right": null,
       "top": null,
       "visibility": null,
       "width": null
      }
     },
     "88b567d11d9f44f69a88a5c84c54f1fc": {
      "model_module": "@jupyter-widgets/controls",
      "model_module_version": "1.5.0",
      "model_name": "HTMLModel",
      "state": {
       "_dom_classes": [],
       "_model_module": "@jupyter-widgets/controls",
       "_model_module_version": "1.5.0",
       "_model_name": "HTMLModel",
       "_view_count": null,
       "_view_module": "@jupyter-widgets/controls",
       "_view_module_version": "1.5.0",
       "_view_name": "HTMLView",
       "description": "",
       "description_tooltip": null,
       "layout": "IPY_MODEL_caf196f47dbd4cccb9c6bbb94d1cbbe2",
       "placeholder": "​",
       "style": "IPY_MODEL_7bc0ab2bdb8948fe9e0fd91700fa15fc",
       "value": " 3614/3614 [09:17&lt;00:00,  6.48it/s]"
      }
     },
     "91783a4326f840d4a8631b6705097efd": {
      "model_module": "@jupyter-widgets/base",
      "model_module_version": "1.2.0",
      "model_name": "LayoutModel",
      "state": {
       "_model_module": "@jupyter-widgets/base",
       "_model_module_version": "1.2.0",
       "_model_name": "LayoutModel",
       "_view_count": null,
       "_view_module": "@jupyter-widgets/base",
       "_view_module_version": "1.2.0",
       "_view_name": "LayoutView",
       "align_content": null,
       "align_items": null,
       "align_self": null,
       "border": null,
       "bottom": null,
       "display": null,
       "flex": null,
       "flex_flow": null,
       "grid_area": null,
       "grid_auto_columns": null,
       "grid_auto_flow": null,
       "grid_auto_rows": null,
       "grid_column": null,
       "grid_gap": null,
       "grid_row": null,
       "grid_template_areas": null,
       "grid_template_columns": null,
       "grid_template_rows": null,
       "height": null,
       "justify_content": null,
       "justify_items": null,
       "left": null,
       "margin": null,
       "max_height": null,
       "max_width": null,
       "min_height": null,
       "min_width": null,
       "object_fit": null,
       "object_position": null,
       "order": null,
       "overflow": null,
       "overflow_x": null,
       "overflow_y": null,
       "padding": null,
       "right": null,
       "top": null,
       "visibility": null,
       "width": null
      }
     },
     "9cdd0b3798424d8bbb66fba64f1f2400": {
      "model_module": "@jupyter-widgets/controls",
      "model_module_version": "1.5.0",
      "model_name": "HBoxModel",
      "state": {
       "_dom_classes": [],
       "_model_module": "@jupyter-widgets/controls",
       "_model_module_version": "1.5.0",
       "_model_name": "HBoxModel",
       "_view_count": null,
       "_view_module": "@jupyter-widgets/controls",
       "_view_module_version": "1.5.0",
       "_view_name": "HBoxView",
       "box_style": "",
       "children": [
        "IPY_MODEL_07a8277d35984f4e991e71f60b70c983",
        "IPY_MODEL_88b567d11d9f44f69a88a5c84c54f1fc"
       ],
       "layout": "IPY_MODEL_709d1f95065d4ce6b880162f8992b78a"
      }
     },
     "a11c8b393f9a48c2af15ce9b96bb8732": {
      "model_module": "@jupyter-widgets/base",
      "model_module_version": "1.2.0",
      "model_name": "LayoutModel",
      "state": {
       "_model_module": "@jupyter-widgets/base",
       "_model_module_version": "1.2.0",
       "_model_name": "LayoutModel",
       "_view_count": null,
       "_view_module": "@jupyter-widgets/base",
       "_view_module_version": "1.2.0",
       "_view_name": "LayoutView",
       "align_content": null,
       "align_items": null,
       "align_self": null,
       "border": null,
       "bottom": null,
       "display": null,
       "flex": null,
       "flex_flow": null,
       "grid_area": null,
       "grid_auto_columns": null,
       "grid_auto_flow": null,
       "grid_auto_rows": null,
       "grid_column": null,
       "grid_gap": null,
       "grid_row": null,
       "grid_template_areas": null,
       "grid_template_columns": null,
       "grid_template_rows": null,
       "height": null,
       "justify_content": null,
       "justify_items": null,
       "left": null,
       "margin": null,
       "max_height": null,
       "max_width": null,
       "min_height": null,
       "min_width": null,
       "object_fit": null,
       "object_position": null,
       "order": null,
       "overflow": null,
       "overflow_x": null,
       "overflow_y": null,
       "padding": null,
       "right": null,
       "top": null,
       "visibility": null,
       "width": null
      }
     },
     "caf196f47dbd4cccb9c6bbb94d1cbbe2": {
      "model_module": "@jupyter-widgets/base",
      "model_module_version": "1.2.0",
      "model_name": "LayoutModel",
      "state": {
       "_model_module": "@jupyter-widgets/base",
       "_model_module_version": "1.2.0",
       "_model_name": "LayoutModel",
       "_view_count": null,
       "_view_module": "@jupyter-widgets/base",
       "_view_module_version": "1.2.0",
       "_view_name": "LayoutView",
       "align_content": null,
       "align_items": null,
       "align_self": null,
       "border": null,
       "bottom": null,
       "display": null,
       "flex": null,
       "flex_flow": null,
       "grid_area": null,
       "grid_auto_columns": null,
       "grid_auto_flow": null,
       "grid_auto_rows": null,
       "grid_column": null,
       "grid_gap": null,
       "grid_row": null,
       "grid_template_areas": null,
       "grid_template_columns": null,
       "grid_template_rows": null,
       "height": null,
       "justify_content": null,
       "justify_items": null,
       "left": null,
       "margin": null,
       "max_height": null,
       "max_width": null,
       "min_height": null,
       "min_width": null,
       "object_fit": null,
       "object_position": null,
       "order": null,
       "overflow": null,
       "overflow_x": null,
       "overflow_y": null,
       "padding": null,
       "right": null,
       "top": null,
       "visibility": null,
       "width": null
      }
     },
     "de7ce0f4a51e48dba51a1e91e6c5aa37": {
      "model_module": "@jupyter-widgets/controls",
      "model_module_version": "1.5.0",
      "model_name": "DescriptionStyleModel",
      "state": {
       "_model_module": "@jupyter-widgets/controls",
       "_model_module_version": "1.5.0",
       "_model_name": "DescriptionStyleModel",
       "_view_count": null,
       "_view_module": "@jupyter-widgets/base",
       "_view_module_version": "1.2.0",
       "_view_name": "StyleView",
       "description_width": ""
      }
     },
     "eaab4042a24e4c78bdce19c94b901b65": {
      "model_module": "@jupyter-widgets/controls",
      "model_module_version": "1.5.0",
      "model_name": "ProgressStyleModel",
      "state": {
       "_model_module": "@jupyter-widgets/controls",
       "_model_module_version": "1.5.0",
       "_model_name": "ProgressStyleModel",
       "_view_count": null,
       "_view_module": "@jupyter-widgets/base",
       "_view_module_version": "1.2.0",
       "_view_name": "StyleView",
       "bar_color": null,
       "description_width": "initial"
      }
     },
     "f629c0ea0e244f13a6d83461b0d77dc0": {
      "model_module": "@jupyter-widgets/controls",
      "model_module_version": "1.5.0",
      "model_name": "HTMLModel",
      "state": {
       "_dom_classes": [],
       "_model_module": "@jupyter-widgets/controls",
       "_model_module_version": "1.5.0",
       "_model_name": "HTMLModel",
       "_view_count": null,
       "_view_module": "@jupyter-widgets/controls",
       "_view_module_version": "1.5.0",
       "_view_name": "HTMLView",
       "description": "",
       "description_tooltip": null,
       "layout": "IPY_MODEL_619573487a204bab92fcf72872b5e568",
       "placeholder": "​",
       "style": "IPY_MODEL_de7ce0f4a51e48dba51a1e91e6c5aa37",
       "value": " 1000/1000 [05:05&lt;00:00,  3.27it/s]"
      }
     },
     "fae60a0cf97b49d099280ac677f25527": {
      "model_module": "@jupyter-widgets/controls",
      "model_module_version": "1.5.0",
      "model_name": "ProgressStyleModel",
      "state": {
       "_model_module": "@jupyter-widgets/controls",
       "_model_module_version": "1.5.0",
       "_model_name": "ProgressStyleModel",
       "_view_count": null,
       "_view_module": "@jupyter-widgets/base",
       "_view_module_version": "1.2.0",
       "_view_name": "StyleView",
       "bar_color": null,
       "description_width": "initial"
      }
     }
    },
    "version_major": 2,
    "version_minor": 0
   }
  }
 },
 "nbformat": 4,
 "nbformat_minor": 1
}
